{
 "cells": [
  {
   "cell_type": "markdown",
   "id": "2aa069f1",
   "metadata": {},
   "source": [
    "### import pandas"
   ]
  },
  {
   "cell_type": "markdown",
   "id": "908df6c8",
   "metadata": {},
   "source": [
    "### Load the training, testing and test_survivors titanic data"
   ]
  },
  {
   "cell_type": "markdown",
   "id": "d8783caa",
   "metadata": {},
   "source": [
    "## Data description:\n",
    "survival:\tSurvival\t0 = No, 1 = Yes <br>\n",
    "pclass:\tTicket class\t1 = 1st, 2 = 2nd, 3 = 3rd; can be treated as a proxy to socio-economic status <br>\n",
    "sex:\tSex\t<br>\n",
    "Age:\tAge in years, fractional if less than one <br>\n",
    "sibsp:\t# of siblings / spouses aboard the Titanic <br>\n",
    "parch:\t# of parents / children aboard the Titanic <br>\n",
    "ticket:\tTicket number <br>\n",
    "fare:\tPassenger fare<br>\n",
    "cabin:\tCabin number<br>\n",
    "embarked:\tPort of Embarkation\tC = Cherbourg, Q = Queenstown, S = Southampton"
   ]
  },
  {
   "cell_type": "markdown",
   "id": "fdad7a29",
   "metadata": {},
   "source": [
    "### check how many non null values are there in each columns. check the datatype of each column"
   ]
  },
  {
   "cell_type": "markdown",
   "id": "c7d5a17c",
   "metadata": {},
   "source": [
    "### optimize the datatype by changing it so that it takes less space. ex convert int64 to int8 if no information is lost"
   ]
  },
  {
   "cell_type": "markdown",
   "id": "d9bfa01d",
   "metadata": {},
   "source": [
    "### compute the mean, std, min, max, of all the numeric columns"
   ]
  },
  {
   "cell_type": "markdown",
   "id": "1bf27691",
   "metadata": {},
   "source": [
    "### survival computation:\n",
    "drop any missing record for this computation.\n",
    "\n",
    "compute the survival probability of males in training data.<br>\n",
    "compute the survival probability of females in training data.<br>\n",
    "compute the survival probability of childrens in training data. use an age of 16 as a threshold to determine if a passenger is a child or not.<br>\n",
    "plot a simple bar plot for all the three cases. <br>\n",
    "\n",
    "compute the survival probability of 1st class passengers.<br>\n",
    "compute the survival probability of 2nd class passengers.<br>\n",
    "compute the survival probability of 3rd class passengers.<br>\n",
    "plot a simple bar plot for all the three cases. <br>\n",
    "\n",
    "compute the survival probability of embark C.<br>\n",
    "compute the survival probability of embark S.<br>\n",
    "compute the survival probability of embark Q.<br>\n",
    "plot a simple bar plot for all the three cases. <br>\n",
    "\n",
    "From the above analysis, can you guess most of the 1st class passengers embarked from where? \n",
    "test the guess by plotting a simple bar plot of all the 3 embarkments for 1st class passengers. Highest bar should correspond to your guess embarkment.\n",
    "\n",
    "Do all the above for testing data as well"
   ]
  },
  {
   "cell_type": "markdown",
   "id": "94eac590",
   "metadata": {},
   "source": [
    "### Detect and remove the outliers in numeric variables:\n",
    "make a custom function using the Turky method to detect outliers. <br>\n",
    "Remove the outlier rows and reset the index."
   ]
  },
  {
   "cell_type": "markdown",
   "id": "0443d5dd",
   "metadata": {},
   "source": [
    "### Dropping features:\n",
    "drop those features/columns which are useless for data analysis and predictions, ex, passengerID"
   ]
  },
  {
   "cell_type": "markdown",
   "id": "b28484ea",
   "metadata": {},
   "source": [
    "### filling missing values:\n",
    "use different imputing techiniques like median, mean, mode etc to fill in missing values. play around to obtain the best model prediction accuracy in the end.<br>\n",
    "Find a way to use \"name\" column to fill \"Sex\" column rows."
   ]
  },
  {
   "cell_type": "markdown",
   "id": "eebd2660",
   "metadata": {},
   "source": [
    "### data encoding:\n",
    "machine learning models require their inputs to be integers so we need to convert categorical values into numeric values. One way to do this is by simply encode the values. For the Sex feature, encode/replace female as 0 and male as 1. For the Embarked feature, Encode/replace S as 0, C as 1 and Q as 2. <br>\n",
    "you can also use one hot encoding by searching the web"
   ]
  },
  {
   "cell_type": "markdown",
   "id": "b4da74a9",
   "metadata": {},
   "source": [
    "### prediction\n",
    "we will be using simple logistic regression to predict survivability. "
   ]
  },
  {
   "cell_type": "code",
   "execution_count": null,
   "id": "a752f6c1",
   "metadata": {},
   "outputs": [],
   "source": [
    "# Logistic regression code:\n",
    "from sklearn.linear_model import LogisticRegression\n",
    "from sklearn.model_selection import train_test_split\n",
    "\n",
    "def LOR(X_train, Y_train, X_test, Y_test):\n",
    "    X_train, X_val, Y_train, Y_val = train_test_split(X_train, Y_train, train_size=0.8)\n",
    "    lor = LogisticRegression()\n",
    "    lor.fit(X_train, Y_train)\n",
    "\n",
    "    acc_log = round(lor.score(X_val, Y_val) * 100, 2)\n",
    "    test_acc_log = round(lor.score(X_test, Y_test) * 100, 2)\n",
    "    return acc_log, test_acc_log\n",
    "\n",
    "# Ex, if train.csv is saved by the name train_df then X_train will contain all the columns which you think are relevant in prediction, like train_df[\"Pclass\", \"Fare\", ...]\n",
    "# Y_train will be train_df[\"Survived\"]\n",
    "# same for test.csv to obtain X_test\n",
    "# if test_survivors.csv is saved by the name test_survivors_df then Y_test will be test_survivors_df[\"Survived\"]"
   ]
  },
  {
   "cell_type": "code",
   "execution_count": null,
   "id": "10226630",
   "metadata": {},
   "outputs": [],
   "source": [
    "val_pred, test_pred = LOR(X_train, Y_train, X_test, Y_test)\n",
    "val_pred, test_pred"
   ]
  },
  {
   "cell_type": "markdown",
   "id": "90156601",
   "metadata": {},
   "source": [
    "### make changes to your outlier detection, feature dropping, filling missing values and data encoding such that validation prediction and test prediction are maximized."
   ]
  }
 ],
 "metadata": {
  "kernelspec": {
   "display_name": "Python 3 (ipykernel)",
   "language": "python",
   "name": "python3"
  },
  "language_info": {
   "codemirror_mode": {
    "name": "ipython",
    "version": 3
   },
   "file_extension": ".py",
   "mimetype": "text/x-python",
   "name": "python",
   "nbconvert_exporter": "python",
   "pygments_lexer": "ipython3",
   "version": "3.9.12"
  }
 },
 "nbformat": 4,
 "nbformat_minor": 5
}
