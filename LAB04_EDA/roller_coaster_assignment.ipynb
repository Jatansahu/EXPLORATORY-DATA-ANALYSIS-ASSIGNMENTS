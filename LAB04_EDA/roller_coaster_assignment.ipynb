{
 "cells": [
  {
   "cell_type": "markdown",
   "id": "2aa069f1",
   "metadata": {},
   "source": [
    "### import pandas"
   ]
  },
  {
   "cell_type": "markdown",
   "id": "908df6c8",
   "metadata": {},
   "source": [
    "### Load the roller coaster data"
   ]
  },
  {
   "cell_type": "markdown",
   "id": "908df6c8",
   "metadata": {},
   "source": [
    "### List out all the columns in the dataset"
   ]
  },
  {
   "cell_type": "markdown",
   "id": "fdad7a29",
   "metadata": {},
   "source": [
    "### check how many non null values are there in each columns. check the datatype of each column"
   ]
  },
  {
   "cell_type": "markdown",
   "metadata": {},
   "source": [
    "### filter the dataset by picking only these columns, coaster_name, Length, Speed, Location, Status, Opening date, Type, Manufacturer, Height,G-force, Max vertical angle, Drop, year_introduced."
   ]
  },
  {
   "cell_type": "markdown",
   "metadata": {},
   "source": [
    "### Rename the columns so they match snake case."
   ]
  },
  {
   "cell_type": "markdown",
   "metadata": {},
   "source": [
    "### The Speed column is object type, containing a string of speed in both mph and kmph. Change the contents of Speed column such that it contains only float values of kmph, thereby changing the type of Speed column to float. Also change the name of Speed column to speed(kmph). Do the same for Length, i.e. it should contain only float values for length in meters, also change it's name to length(m). Do the same thing for Height and Drop."
   ]
  },
  {
   "cell_type": "markdown",
   "metadata": {},
   "source": [
    "### Convert the G-force column into float, there might be some record having values like \"4 Gs\", it should be converted to 4."
   ]
  },
  {
   "cell_type": "markdown",
   "metadata": {},
   "source": [
    "### Convert the Max vertical angle to float or int by removing the degree symbol in the column. rename to max_vertical_angle(degrees)"
   ]
  },
  {
   "cell_type": "markdown",
   "metadata": {},
   "source": [
    "### Convert the data type of Opening data and year_introduced into date_time"
   ]
  },
  {
   "cell_type": "markdown",
   "id": "c7d5a17c",
   "metadata": {},
   "source": [
    "### optimize the datatype by changing it so that it takes less space. ex convert int64 to int8 if no information is lost"
   ]
  },
  {
   "cell_type": "markdown",
   "id": "d9bfa01d",
   "metadata": {},
   "source": [
    "### compute the mean, std, min, max, of all the numeric columns"
   ]
  },
  {
   "cell_type": "markdown",
   "metadata": {},
   "source": [
    "### remove duplicate rows and reset the index, if any. (remove only if whole row is a duplicate)."
   ]
  },
  {
   "cell_type": "markdown",
   "metadata": {},
   "source": [
    "### remove rows which have duplicate coster_name and reset the index, if any."
   ]
  },
  {
   "cell_type": "markdown",
   "id": "94eac590",
   "metadata": {},
   "source": [
    "### Detect and remove the outliers in numeric variables:\n",
    "make a custom function using the Turky method to detect outliers. <br>\n",
    "Remove the outlier rows and reset the index."
   ]
  },
  {
   "cell_type": "markdown",
   "metadata": {},
   "source": [
    "### make a simple bar plot (use pandas .plot(kind='bar')) for number of roller coasters introduced in a given year (top 10 only)"
   ]
  },
  {
   "cell_type": "code",
   "execution_count": null,
   "metadata": {},
   "outputs": [
    {
     "data": {
      "text/plain": [
       "Text(0, 0.5, 'Count of roller coasters')"
      ]
     },
     "metadata": {},
     "output_type": "display_data"
    },
    {
     "data": {
      "image/png": "[encoded data removed]",
      "text/plain": [
       "<Figure size 432x288 with 1 Axes>"
      ]
     },
     "metadata": {},
     "output_type": "display_data"
    }
   ],
   "source": [
    "# It should look something like this."
   ]
  },
  {
   "cell_type": "markdown",
   "metadata": {},
   "source": [
    "### Make a histogram plot (use pandas .plot(kind='hist')) of Speed,Length, height, G-force, drop, and Max vertical angle. "
   ]
  },
  {
   "cell_type": "markdown",
   "metadata": {},
   "source": [
    "### make a scatter plot (use pandas .plot(kind='scatter')) between speed and length, height and drop, G-force and Max vertical angle."
   ]
  },
  {
   "cell_type": "markdown",
   "metadata": {},
   "source": [
    "### compute the correlation table for speed, length, height, G-force, drop and max vertical angle. make a heat map using the correlation table using any library."
   ]
  },
  {
   "cell_type": "markdown",
   "metadata": {},
   "source": [
    "### A location can have multiple roller costers. A location is called 'hot' if it satisfies two criterions, 1) the average speed of all the roller coasters in that location is greater than 50 kmph. 2) the number of roller coasters in that location is greater than 10. Make a dataframe having all the 'hot' location with their corresponding mean coaster speed and number of coaster in that location. Make a simple bar plot of locations and their mean speed (top 5 only having the highest mean speed in decreasing order). (ignore 'other' location during the computation)"
   ]
  },
  {
   "cell_type": "markdown",
   "metadata": {},
   "source": [
    "### filling missing values:\n",
    "1. use different imputing techiniques like median, mean, mode etc to fill in missing values.<br>\n",
    "\n",
    "2. Instead of imputing the missing values based on the whole mean, median and mode of a particular column, what you can do is impute the missing values based on the mean, median and mode for a particular location. Example, if the speed value of a particular row which belongs to Coney Island is missing, you can impute it with the mean of speed value of Coney Island only, instead of the mean of speed value of whole dataframe. This might be more accurate depending on the dataset. Do the above method of imputation for all the numeric columns."
   ]
  },
  {
   "cell_type": "markdown",
   "metadata": {},
   "source": [
    "### After filling in the missing values do all the exercises again and see if there is any deviation in results before and after imputation."
   ]
  }
 ],
 "metadata": {
  "kernelspec": {
   "display_name": "Python 3.9.8 64-bit",
   "language": "python",
   "name": "python3"
  },
  "language_info": {
   "name": "python",
   "version": "3.9.8"
  },
  "orig_nbformat": 4,
  "vscode": {
   "interpreter": {
    "hash": "28dcf420e82455beda9870b50cb18544e508aaa9187e15c58d04fb4a4b79abf7"
   }
  }
 },
 "nbformat": 4,
 "nbformat_minor": 2
}
