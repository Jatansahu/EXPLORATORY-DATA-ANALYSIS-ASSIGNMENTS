{
  "nbformat": 4,
  "nbformat_minor": 0,
  "metadata": {
    "colab": {
      "provenance": []
    },
    "kernelspec": {
      "name": "python3",
      "display_name": "Python 3"
    },
    "language_info": {
      "name": "python"
    }
  },
  "cells": [
    {
      "cell_type": "markdown",
      "source": [
        "**NUMPY AND PANDAS**\n",
        "\n",
        "**EDA ASSIGNMENT 3**\n",
        "\n",
        "**ID -202218061**\n",
        "\n",
        "**NAME - JATAN SAHU**"
      ],
      "metadata": {
        "id": "bBDkLITVSyCE"
      }
    },
    {
      "cell_type": "markdown",
      "source": [
        "**REFERENCE LINKS**\n",
        "\n",
        "**NUMPY** - https://colab.research.google.com/drive/1Zsq9-4Onw_OZUFw-7GI6bOYv0IpmZeDd?usp=sharing\n",
        "\n",
        "\n",
        "**PANDAS**  - https://colab.research.google.com/drive/1XJUkysr-IxOtJ6Lvjhte81U-VoLXIILh?usp=sharing\n",
        "\n",
        "**Pandas** - https://www.kaggle.com/learn/pandas"
      ],
      "metadata": {
        "id": "MBcALYKlTNKN"
      }
    },
    {
      "cell_type": "code",
      "source": [
        "import numpy as np"
      ],
      "metadata": {
        "id": "C2GgLTyqTE75"
      },
      "execution_count": null,
      "outputs": []
    },
    {
      "cell_type": "markdown",
      "source": [
        "1. Create a 1x7 Numpy array whose elements consist of a geometric progression with a = 1 & r = 3."
      ],
      "metadata": {
        "id": "6ZJmOG0oSs9p"
      }
    },
    {
      "cell_type": "code",
      "source": [
        "a=1\n",
        "r=3\n",
        "ap = np.array([])\n",
        "for i in np.arange(7):\n",
        "  ap = np.append(ap,a*(r**i))\n",
        "print(\"1*7 numpy array :\", ap)"
      ],
      "metadata": {
        "colab": {
          "base_uri": "https://localhost:8080/"
        },
        "id": "aAfzVQUlS9IX",
        "outputId": "f73fb641-f3df-4cea-fb8e-95f875bcbf0f"
      },
      "execution_count": null,
      "outputs": [
        {
          "output_type": "stream",
          "name": "stdout",
          "text": [
            "1*7 numpy array : [  1.   3.   9.  27.  81. 243. 729.]\n"
          ]
        }
      ]
    },
    {
      "cell_type": "markdown",
      "source": [
        "2. Transform each of the element of the below matrix according to the below equation\n",
        "if x is an element in input matrix, output matrix should have 1/(x2+1) in its place\n",
        "\n",
        "mat = [[1,2,3],[4,5,6]]"
      ],
      "metadata": {
        "id": "EefJVBsoTCJ-"
      }
    },
    {
      "cell_type": "code",
      "source": [
        "mat= np.array([[1,2,3],[4,5,6]])\n",
        "print(1/ ((mat**2) + 1))"
      ],
      "metadata": {
        "colab": {
          "base_uri": "https://localhost:8080/"
        },
        "id": "257spGfRTc60",
        "outputId": "8b0442be-6e38-4277-81c0-349c1bfeb708"
      },
      "execution_count": null,
      "outputs": [
        {
          "output_type": "stream",
          "name": "stdout",
          "text": [
            "[[0.5        0.2        0.1       ]\n",
            " [0.05882353 0.03846154 0.02702703]]\n"
          ]
        }
      ]
    },
    {
      "cell_type": "markdown",
      "source": [
        "3. Make a 5x5 NumPy array of all zeros and use indexing and broadcasting to modify it such that all the elements not on the border are 1"
      ],
      "metadata": {
        "id": "A2PLvc2uVEzK"
      }
    },
    {
      "cell_type": "code",
      "execution_count": null,
      "metadata": {
        "colab": {
          "base_uri": "https://localhost:8080/"
        },
        "id": "a4_XFIts06nH",
        "outputId": "22989041-771e-48b9-b60e-a6710a9c3f78"
      },
      "outputs": [
        {
          "output_type": "execute_result",
          "data": {
            "text/plain": [
              "array([[0., 0., 0., 0., 0.],\n",
              "       [0., 1., 1., 1., 0.],\n",
              "       [0., 1., 1., 1., 0.],\n",
              "       [0., 1., 1., 1., 0.],\n",
              "       [0., 0., 0., 0., 0.]])"
            ]
          },
          "metadata": {},
          "execution_count": 18
        }
      ],
      "source": [
        "m = np.zeros((5,5))\n",
        "m[1:-1,1:-1]=1\n",
        "m"
      ]
    },
    {
      "cell_type": "markdown",
      "source": [
        "4. using numpy, instantiate 13x13 zeros matrix then modify it to make the below matrix:\n",
        "[[0,0,0,0,0,0,0,0,0,0,0,0,0] [0,1,1,1,1,1,1,1,1,1,1,1,0] [0,1,2,2,2,2,2,2,2,2,2,1,0] [0,1,2,3,3,3,3,3,3,3,2,1,0] [0,1,2,3,4,4,4,4,4,3,2,1,0] [0,1,2,3,4,5,5,5,4,3,2,1,0] [0,1,2,3,4,5,6,5,4,3,2,1,0] [0,1,2,3,4,5,5,5,4,3,2,1,0] [0,1,2,3,4,4,4,4,4,3,2,1,0] [0,1,2,3,3,3,3,3,3,3,2,1,0] [0,1,2,2,2,2,2,2,2,2,2,1,0] [0,1,1,1,1,1,1,1,1,1,1,1,0] [0,0,0,0,0,0,0,0,0,0,0,0,0] ]"
      ],
      "metadata": {
        "id": "gtI5j09QX998"
      }
    },
    {
      "cell_type": "code",
      "source": [
        "m = np.zeros((13,13))\n",
        "m[1:12,1:-1] =1\n",
        "m[2:11,2:-2] =2\n",
        "m[3:10,3:-3] = 3\n",
        "m[4:9,4:-4] = 4\n",
        "m[5:8,5:-5] = 5\n",
        "m[6:7,6:-6] = 6\n",
        "m"
      ],
      "metadata": {
        "colab": {
          "base_uri": "https://localhost:8080/"
        },
        "id": "kkRDGFTrb9mz",
        "outputId": "d8162851-212d-48a2-a2bf-d77773fde80d"
      },
      "execution_count": null,
      "outputs": [
        {
          "output_type": "execute_result",
          "data": {
            "text/plain": [
              "array([[0., 0., 0., 0., 0., 0., 0., 0., 0., 0., 0., 0., 0.],\n",
              "       [0., 1., 1., 1., 1., 1., 1., 1., 1., 1., 1., 1., 0.],\n",
              "       [0., 1., 2., 2., 2., 2., 2., 2., 2., 2., 2., 1., 0.],\n",
              "       [0., 1., 2., 3., 3., 3., 3., 3., 3., 3., 2., 1., 0.],\n",
              "       [0., 1., 2., 3., 4., 4., 4., 4., 4., 3., 2., 1., 0.],\n",
              "       [0., 1., 2., 3., 4., 5., 5., 5., 4., 3., 2., 1., 0.],\n",
              "       [0., 1., 2., 3., 4., 5., 6., 5., 4., 3., 2., 1., 0.],\n",
              "       [0., 1., 2., 3., 4., 5., 5., 5., 4., 3., 2., 1., 0.],\n",
              "       [0., 1., 2., 3., 4., 4., 4., 4., 4., 3., 2., 1., 0.],\n",
              "       [0., 1., 2., 3., 3., 3., 3., 3., 3., 3., 2., 1., 0.],\n",
              "       [0., 1., 2., 2., 2., 2., 2., 2., 2., 2., 2., 1., 0.],\n",
              "       [0., 1., 1., 1., 1., 1., 1., 1., 1., 1., 1., 1., 0.],\n",
              "       [0., 0., 0., 0., 0., 0., 0., 0., 0., 0., 0., 0., 0.]])"
            ]
          },
          "metadata": {},
          "execution_count": 25
        }
      ]
    },
    {
      "cell_type": "markdown",
      "source": [
        "5.make a 3 dimensional array of shape 3,3,3 having values 1-27 in sequence \n",
        "\n",
        "1) Slice this matrix to contain only second and third rows, first and second columns.\n",
        "\n",
        "2) Output a two dimensional matrix as shown below\n",
        "[[0,3,6],[9,12,15],[18,21,14]]"
      ],
      "metadata": {
        "id": "l8oV46EJc0xl"
      }
    },
    {
      "cell_type": "code",
      "source": [
        "array = np.arange(1,28).reshape(3,3,3)\n",
        "array"
      ],
      "metadata": {
        "colab": {
          "base_uri": "https://localhost:8080/"
        },
        "id": "bXW5O71mi0qK",
        "outputId": "9d8f6d9f-383d-4d6b-f36b-81d827e8db63"
      },
      "execution_count": null,
      "outputs": [
        {
          "output_type": "execute_result",
          "data": {
            "text/plain": [
              "array([[[ 1,  2,  3],\n",
              "        [ 4,  5,  6],\n",
              "        [ 7,  8,  9]],\n",
              "\n",
              "       [[10, 11, 12],\n",
              "        [13, 14, 15],\n",
              "        [16, 17, 18]],\n",
              "\n",
              "       [[19, 20, 21],\n",
              "        [22, 23, 24],\n",
              "        [25, 26, 27]]])"
            ]
          },
          "metadata": {},
          "execution_count": 39
        }
      ]
    },
    {
      "cell_type": "code",
      "source": [
        "#1) Slice this matrix to contain only second and third rows, first and second columns.\n",
        "arr1 =array.copy()\n",
        "arr1[:,1:,0:2]"
      ],
      "metadata": {
        "colab": {
          "base_uri": "https://localhost:8080/"
        },
        "id": "HYyh4XHNhP9I",
        "outputId": "6bf846b2-551c-47a6-ebc0-3358f759bee3"
      },
      "execution_count": null,
      "outputs": [
        {
          "output_type": "execute_result",
          "data": {
            "text/plain": [
              "array([[[ 4,  5],\n",
              "        [ 7,  8]],\n",
              "\n",
              "       [[13, 14],\n",
              "        [16, 17]],\n",
              "\n",
              "       [[22, 23],\n",
              "        [25, 26]]])"
            ]
          },
          "metadata": {},
          "execution_count": 40
        }
      ]
    },
    {
      "cell_type": "code",
      "source": [
        "#2) Output a two dimensional matrix as shown below [[0,3,6],[9,12,15],[18,21,14]]\n",
        "arr2 = array.copy()\n",
        "arr2[:,:,-1]"
      ],
      "metadata": {
        "colab": {
          "base_uri": "https://localhost:8080/"
        },
        "id": "LzuAUf2Hjup5",
        "outputId": "28081138-03fe-461a-a3c3-818ed6ab3cf9"
      },
      "execution_count": null,
      "outputs": [
        {
          "output_type": "execute_result",
          "data": {
            "text/plain": [
              "array([[ 3,  6,  9],\n",
              "       [12, 15, 18],\n",
              "       [21, 24, 27]])"
            ]
          },
          "metadata": {},
          "execution_count": 42
        }
      ]
    },
    {
      "cell_type": "markdown",
      "source": [
        "6. Make a 2 dimensional array of size 3,3 having values 1-9 in sequence and modify it such that even values remains unchanged but odd values are changed to zero"
      ],
      "metadata": {
        "id": "nbqYRoEon1NK"
      }
    },
    {
      "cell_type": "code",
      "source": [
        "arr =np.arange(1,10).reshape(3,3)\n",
        "print(arr)\n",
        "\n"
      ],
      "metadata": {
        "colab": {
          "base_uri": "https://localhost:8080/"
        },
        "id": "qOIHnbh8nm1V",
        "outputId": "6e651b39-bc50-4e3e-9389-ba352ef12c1e"
      },
      "execution_count": null,
      "outputs": [
        {
          "output_type": "stream",
          "name": "stdout",
          "text": [
            "[[1 2 3]\n",
            " [4 5 6]\n",
            " [7 8 9]]\n"
          ]
        }
      ]
    },
    {
      "cell_type": "code",
      "source": [
        "arr1= arr.copy()\n",
        "for i in range(len(arr1)):\n",
        "  for j in range(len(arr1)):\n",
        "    if arr1[i][j]%2!=0:\n",
        "      arr1[i][j]=0\n",
        "arr1"
      ],
      "metadata": {
        "colab": {
          "base_uri": "https://localhost:8080/"
        },
        "id": "9WokqHDCoIk9",
        "outputId": "babff4de-58ea-4121-cb8e-c6a2d80222bb"
      },
      "execution_count": null,
      "outputs": [
        {
          "output_type": "execute_result",
          "data": {
            "text/plain": [
              "array([[0, 2, 0],\n",
              "       [4, 0, 6],\n",
              "       [0, 8, 0]])"
            ]
          },
          "metadata": {},
          "execution_count": 47
        }
      ]
    },
    {
      "cell_type": "code",
      "source": [
        "#Or\n",
        "arr2 = arr.copy()\n",
        "arr2[arr2%2!=0] = 0\n",
        "arr2"
      ],
      "metadata": {
        "colab": {
          "base_uri": "https://localhost:8080/"
        },
        "id": "hdWdUQaYp0Kk",
        "outputId": "8b766706-be0c-41a3-d3e3-5542a0ad1979"
      },
      "execution_count": null,
      "outputs": [
        {
          "output_type": "execute_result",
          "data": {
            "text/plain": [
              "array([[0, 2, 0],\n",
              "       [4, 0, 6],\n",
              "       [0, 8, 0]])"
            ]
          },
          "metadata": {},
          "execution_count": 48
        }
      ]
    },
    {
      "cell_type": "markdown",
      "source": [
        "7. Make a 2 dimensional array of size 8,4 having values 1-32 in sequence. use list indexing to output all the even elements in the matrix"
      ],
      "metadata": {
        "id": "9KEo6ECeq35O"
      }
    },
    {
      "cell_type": "code",
      "source": [
        "arr = np.arange(1,33).reshape(8,4)\n",
        "arr"
      ],
      "metadata": {
        "colab": {
          "base_uri": "https://localhost:8080/"
        },
        "id": "TXztP-WxqxAB",
        "outputId": "7fdb923c-54a8-42cb-ca1b-a7ca4ad6089a"
      },
      "execution_count": null,
      "outputs": [
        {
          "output_type": "execute_result",
          "data": {
            "text/plain": [
              "array([[ 1,  2,  3,  4],\n",
              "       [ 5,  6,  7,  8],\n",
              "       [ 9, 10, 11, 12],\n",
              "       [13, 14, 15, 16],\n",
              "       [17, 18, 19, 20],\n",
              "       [21, 22, 23, 24],\n",
              "       [25, 26, 27, 28],\n",
              "       [29, 30, 31, 32]])"
            ]
          },
          "metadata": {},
          "execution_count": 52
        }
      ]
    },
    {
      "cell_type": "code",
      "source": [
        "arr[:,[1,3]]"
      ],
      "metadata": {
        "colab": {
          "base_uri": "https://localhost:8080/"
        },
        "id": "PU46uY16rUdT",
        "outputId": "6bdef723-39da-4492-ce15-81c7a0506354"
      },
      "execution_count": null,
      "outputs": [
        {
          "output_type": "execute_result",
          "data": {
            "text/plain": [
              "array([[ 2,  4],\n",
              "       [ 6,  8],\n",
              "       [10, 12],\n",
              "       [14, 16],\n",
              "       [18, 20],\n",
              "       [22, 24],\n",
              "       [26, 28],\n",
              "       [30, 32]])"
            ]
          },
          "metadata": {},
          "execution_count": 60
        }
      ]
    },
    {
      "cell_type": "markdown",
      "source": [
        "8.Make matrix1 as a 2 dimensional array of size 3,3 having value 0-8 in sequence. make matrix2 as a 2 dimensional array of size 3,3 having values 1-9 in sequence. use masking and conditional logic to replace all the odd elements of matrix A with even elements of matrix B"
      ],
      "metadata": {
        "id": "tRxnPNBotvpG"
      }
    },
    {
      "cell_type": "code",
      "source": [
        "mat1 = np.arange(9).reshape(3,3)\n",
        "mat2 = np.arange(1,10).reshape(3,3)\n",
        "print(mat1)\n",
        "print()\n",
        "print(mat2)"
      ],
      "metadata": {
        "colab": {
          "base_uri": "https://localhost:8080/"
        },
        "id": "dsq-VoJ7tyZ9",
        "outputId": "ada7180f-a033-4c59-a0fe-5927f2f46ee2"
      },
      "execution_count": null,
      "outputs": [
        {
          "output_type": "stream",
          "name": "stdout",
          "text": [
            "[[0 1 2]\n",
            " [3 4 5]\n",
            " [6 7 8]]\n",
            "\n",
            "[[1 2 3]\n",
            " [4 5 6]\n",
            " [7 8 9]]\n"
          ]
        }
      ]
    },
    {
      "cell_type": "code",
      "source": [
        "mat1[mat1%2!=0] = mat2[mat2 % 2 ==0] \n",
        "mat1"
      ],
      "metadata": {
        "colab": {
          "base_uri": "https://localhost:8080/"
        },
        "id": "emOXM55buaJV",
        "outputId": "ef9cd5d1-9215-4efb-8e22-ea54b9665fa2"
      },
      "execution_count": null,
      "outputs": [
        {
          "output_type": "execute_result",
          "data": {
            "text/plain": [
              "array([[0, 2, 2],\n",
              "       [4, 4, 6],\n",
              "       [6, 8, 8]])"
            ]
          },
          "metadata": {},
          "execution_count": 72
        }
      ]
    },
    {
      "cell_type": "markdown",
      "source": [
        "9. solve for x and y using numpy\n",
        "\n",
        "2x + 5y = 20\n",
        "\n",
        "3x + 6y = 12"
      ],
      "metadata": {
        "id": "su6ncrPR0vHg"
      }
    },
    {
      "cell_type": "code",
      "source": [
        "a = np.array([[2,5],[3,6]])\n",
        "b=np.array([20,12])\n",
        "X= np.linalg.solve(a,b)\n",
        "print(\"values of x and y are :\",X)"
      ],
      "metadata": {
        "colab": {
          "base_uri": "https://localhost:8080/"
        },
        "id": "g1o8InEc0uul",
        "outputId": "0e2aba54-35a7-4a72-94e1-5d606bd85929"
      },
      "execution_count": null,
      "outputs": [
        {
          "output_type": "stream",
          "name": "stdout",
          "text": [
            "values of x and y are : [-20.  12.]\n"
          ]
        }
      ]
    },
    {
      "cell_type": "code",
      "source": [],
      "metadata": {
        "id": "63RHsnT_zHBZ"
      },
      "execution_count": null,
      "outputs": []
    },
    {
      "cell_type": "markdown",
      "source": [
        "**PANDAS**"
      ],
      "metadata": {
        "id": "Ed0cyRqG1joP"
      }
    },
    {
      "cell_type": "code",
      "source": [],
      "metadata": {
        "id": "IIuXksn81isM"
      },
      "execution_count": null,
      "outputs": []
    },
    {
      "cell_type": "markdown",
      "source": [
        "1.Download iris dataset from kaggle. It contains 6 columns and 150 rows of 3 different sepcies of flowers."
      ],
      "metadata": {
        "id": "W-kLG8B3bl9X"
      }
    },
    {
      "cell_type": "code",
      "source": [
        "import pandas as pd"
      ],
      "metadata": {
        "id": "9J-RR_5-1iot"
      },
      "execution_count": 1,
      "outputs": []
    },
    {
      "cell_type": "code",
      "source": [
        "#upload the IRIS.csv file in the content panel of the colab\n",
        "dataset=pd.read_csv(\"/content/Iris.csv\") \n",
        "dataset   "
      ],
      "metadata": {
        "colab": {
          "base_uri": "https://localhost:8080/",
          "height": 424
        },
        "id": "yR3a-4pSbvaO",
        "outputId": "9dec9c8b-3b23-41aa-ad7c-57830eecaad2"
      },
      "execution_count": 3,
      "outputs": [
        {
          "output_type": "execute_result",
          "data": {
            "text/plain": [
              "      Id  SepalLengthCm  SepalWidthCm  PetalLengthCm  PetalWidthCm  \\\n",
              "0      1            5.1           3.5            1.4           0.2   \n",
              "1      2            4.9           3.0            1.4           0.2   \n",
              "2      3            4.7           3.2            1.3           0.2   \n",
              "3      4            4.6           3.1            1.5           0.2   \n",
              "4      5            5.0           3.6            1.4           0.2   \n",
              "..   ...            ...           ...            ...           ...   \n",
              "145  146            6.7           3.0            5.2           2.3   \n",
              "146  147            6.3           2.5            5.0           1.9   \n",
              "147  148            6.5           3.0            5.2           2.0   \n",
              "148  149            6.2           3.4            5.4           2.3   \n",
              "149  150            5.9           3.0            5.1           1.8   \n",
              "\n",
              "            Species  \n",
              "0       Iris-setosa  \n",
              "1       Iris-setosa  \n",
              "2       Iris-setosa  \n",
              "3       Iris-setosa  \n",
              "4       Iris-setosa  \n",
              "..              ...  \n",
              "145  Iris-virginica  \n",
              "146  Iris-virginica  \n",
              "147  Iris-virginica  \n",
              "148  Iris-virginica  \n",
              "149  Iris-virginica  \n",
              "\n",
              "[150 rows x 6 columns]"
            ],
            "text/html": [
              "\n",
              "  <div id=\"df-dc19bf8f-fa8e-431a-8b77-4e5bb23db3b9\">\n",
              "    <div class=\"colab-df-container\">\n",
              "      <div>\n",
              "<style scoped>\n",
              "    .dataframe tbody tr th:only-of-type {\n",
              "        vertical-align: middle;\n",
              "    }\n",
              "\n",
              "    .dataframe tbody tr th {\n",
              "        vertical-align: top;\n",
              "    }\n",
              "\n",
              "    .dataframe thead th {\n",
              "        text-align: right;\n",
              "    }\n",
              "</style>\n",
              "<table border=\"1\" class=\"dataframe\">\n",
              "  <thead>\n",
              "    <tr style=\"text-align: right;\">\n",
              "      <th></th>\n",
              "      <th>Id</th>\n",
              "      <th>SepalLengthCm</th>\n",
              "      <th>SepalWidthCm</th>\n",
              "      <th>PetalLengthCm</th>\n",
              "      <th>PetalWidthCm</th>\n",
              "      <th>Species</th>\n",
              "    </tr>\n",
              "  </thead>\n",
              "  <tbody>\n",
              "    <tr>\n",
              "      <th>0</th>\n",
              "      <td>1</td>\n",
              "      <td>5.1</td>\n",
              "      <td>3.5</td>\n",
              "      <td>1.4</td>\n",
              "      <td>0.2</td>\n",
              "      <td>Iris-setosa</td>\n",
              "    </tr>\n",
              "    <tr>\n",
              "      <th>1</th>\n",
              "      <td>2</td>\n",
              "      <td>4.9</td>\n",
              "      <td>3.0</td>\n",
              "      <td>1.4</td>\n",
              "      <td>0.2</td>\n",
              "      <td>Iris-setosa</td>\n",
              "    </tr>\n",
              "    <tr>\n",
              "      <th>2</th>\n",
              "      <td>3</td>\n",
              "      <td>4.7</td>\n",
              "      <td>3.2</td>\n",
              "      <td>1.3</td>\n",
              "      <td>0.2</td>\n",
              "      <td>Iris-setosa</td>\n",
              "    </tr>\n",
              "    <tr>\n",
              "      <th>3</th>\n",
              "      <td>4</td>\n",
              "      <td>4.6</td>\n",
              "      <td>3.1</td>\n",
              "      <td>1.5</td>\n",
              "      <td>0.2</td>\n",
              "      <td>Iris-setosa</td>\n",
              "    </tr>\n",
              "    <tr>\n",
              "      <th>4</th>\n",
              "      <td>5</td>\n",
              "      <td>5.0</td>\n",
              "      <td>3.6</td>\n",
              "      <td>1.4</td>\n",
              "      <td>0.2</td>\n",
              "      <td>Iris-setosa</td>\n",
              "    </tr>\n",
              "    <tr>\n",
              "      <th>...</th>\n",
              "      <td>...</td>\n",
              "      <td>...</td>\n",
              "      <td>...</td>\n",
              "      <td>...</td>\n",
              "      <td>...</td>\n",
              "      <td>...</td>\n",
              "    </tr>\n",
              "    <tr>\n",
              "      <th>145</th>\n",
              "      <td>146</td>\n",
              "      <td>6.7</td>\n",
              "      <td>3.0</td>\n",
              "      <td>5.2</td>\n",
              "      <td>2.3</td>\n",
              "      <td>Iris-virginica</td>\n",
              "    </tr>\n",
              "    <tr>\n",
              "      <th>146</th>\n",
              "      <td>147</td>\n",
              "      <td>6.3</td>\n",
              "      <td>2.5</td>\n",
              "      <td>5.0</td>\n",
              "      <td>1.9</td>\n",
              "      <td>Iris-virginica</td>\n",
              "    </tr>\n",
              "    <tr>\n",
              "      <th>147</th>\n",
              "      <td>148</td>\n",
              "      <td>6.5</td>\n",
              "      <td>3.0</td>\n",
              "      <td>5.2</td>\n",
              "      <td>2.0</td>\n",
              "      <td>Iris-virginica</td>\n",
              "    </tr>\n",
              "    <tr>\n",
              "      <th>148</th>\n",
              "      <td>149</td>\n",
              "      <td>6.2</td>\n",
              "      <td>3.4</td>\n",
              "      <td>5.4</td>\n",
              "      <td>2.3</td>\n",
              "      <td>Iris-virginica</td>\n",
              "    </tr>\n",
              "    <tr>\n",
              "      <th>149</th>\n",
              "      <td>150</td>\n",
              "      <td>5.9</td>\n",
              "      <td>3.0</td>\n",
              "      <td>5.1</td>\n",
              "      <td>1.8</td>\n",
              "      <td>Iris-virginica</td>\n",
              "    </tr>\n",
              "  </tbody>\n",
              "</table>\n",
              "<p>150 rows × 6 columns</p>\n",
              "</div>\n",
              "      <button class=\"colab-df-convert\" onclick=\"convertToInteractive('df-dc19bf8f-fa8e-431a-8b77-4e5bb23db3b9')\"\n",
              "              title=\"Convert this dataframe to an interactive table.\"\n",
              "              style=\"display:none;\">\n",
              "        \n",
              "  <svg xmlns=\"http://www.w3.org/2000/svg\" height=\"24px\"viewBox=\"0 0 24 24\"\n",
              "       width=\"24px\">\n",
              "    <path d=\"M0 0h24v24H0V0z\" fill=\"none\"/>\n",
              "    <path d=\"M18.56 5.44l.94 2.06.94-2.06 2.06-.94-2.06-.94-.94-2.06-.94 2.06-2.06.94zm-11 1L8.5 8.5l.94-2.06 2.06-.94-2.06-.94L8.5 2.5l-.94 2.06-2.06.94zm10 10l.94 2.06.94-2.06 2.06-.94-2.06-.94-.94-2.06-.94 2.06-2.06.94z\"/><path d=\"M17.41 7.96l-1.37-1.37c-.4-.4-.92-.59-1.43-.59-.52 0-1.04.2-1.43.59L10.3 9.45l-7.72 7.72c-.78.78-.78 2.05 0 2.83L4 21.41c.39.39.9.59 1.41.59.51 0 1.02-.2 1.41-.59l7.78-7.78 2.81-2.81c.8-.78.8-2.07 0-2.86zM5.41 20L4 18.59l7.72-7.72 1.47 1.35L5.41 20z\"/>\n",
              "  </svg>\n",
              "      </button>\n",
              "      \n",
              "  <style>\n",
              "    .colab-df-container {\n",
              "      display:flex;\n",
              "      flex-wrap:wrap;\n",
              "      gap: 12px;\n",
              "    }\n",
              "\n",
              "    .colab-df-convert {\n",
              "      background-color: #E8F0FE;\n",
              "      border: none;\n",
              "      border-radius: 50%;\n",
              "      cursor: pointer;\n",
              "      display: none;\n",
              "      fill: #1967D2;\n",
              "      height: 32px;\n",
              "      padding: 0 0 0 0;\n",
              "      width: 32px;\n",
              "    }\n",
              "\n",
              "    .colab-df-convert:hover {\n",
              "      background-color: #E2EBFA;\n",
              "      box-shadow: 0px 1px 2px rgba(60, 64, 67, 0.3), 0px 1px 3px 1px rgba(60, 64, 67, 0.15);\n",
              "      fill: #174EA6;\n",
              "    }\n",
              "\n",
              "    [theme=dark] .colab-df-convert {\n",
              "      background-color: #3B4455;\n",
              "      fill: #D2E3FC;\n",
              "    }\n",
              "\n",
              "    [theme=dark] .colab-df-convert:hover {\n",
              "      background-color: #434B5C;\n",
              "      box-shadow: 0px 1px 3px 1px rgba(0, 0, 0, 0.15);\n",
              "      filter: drop-shadow(0px 1px 2px rgba(0, 0, 0, 0.3));\n",
              "      fill: #FFFFFF;\n",
              "    }\n",
              "  </style>\n",
              "\n",
              "      <script>\n",
              "        const buttonEl =\n",
              "          document.querySelector('#df-dc19bf8f-fa8e-431a-8b77-4e5bb23db3b9 button.colab-df-convert');\n",
              "        buttonEl.style.display =\n",
              "          google.colab.kernel.accessAllowed ? 'block' : 'none';\n",
              "\n",
              "        async function convertToInteractive(key) {\n",
              "          const element = document.querySelector('#df-dc19bf8f-fa8e-431a-8b77-4e5bb23db3b9');\n",
              "          const dataTable =\n",
              "            await google.colab.kernel.invokeFunction('convertToInteractive',\n",
              "                                                     [key], {});\n",
              "          if (!dataTable) return;\n",
              "\n",
              "          const docLinkHtml = 'Like what you see? Visit the ' +\n",
              "            '<a target=\"_blank\" href=https://colab.research.google.com/notebooks/data_table.ipynb>data table notebook</a>'\n",
              "            + ' to learn more about interactive tables.';\n",
              "          element.innerHTML = '';\n",
              "          dataTable['output_type'] = 'display_data';\n",
              "          await google.colab.output.renderOutput(dataTable, element);\n",
              "          const docLink = document.createElement('div');\n",
              "          docLink.innerHTML = docLinkHtml;\n",
              "          element.appendChild(docLink);\n",
              "        }\n",
              "      </script>\n",
              "    </div>\n",
              "  </div>\n",
              "  "
            ]
          },
          "metadata": {},
          "execution_count": 3
        }
      ]
    },
    {
      "cell_type": "code",
      "source": [
        "#Checking 3 different sepcies of flowers.\n",
        "dataset['Species'].nunique()"
      ],
      "metadata": {
        "colab": {
          "base_uri": "https://localhost:8080/"
        },
        "id": "f0zY06CDfF5u",
        "outputId": "71717cd9-95d6-4bc7-eb74-791d12d7ff50"
      },
      "execution_count": 4,
      "outputs": [
        {
          "output_type": "execute_result",
          "data": {
            "text/plain": [
              "3"
            ]
          },
          "metadata": {},
          "execution_count": 4
        }
      ]
    },
    {
      "cell_type": "markdown",
      "source": [
        "2.Make a dataframe of the csv file. After that, make three dataframes, containing 50 rows each for all the three different species"
      ],
      "metadata": {
        "id": "kwG4AXzkdHFf"
      }
    },
    {
      "cell_type": "code",
      "source": [
        "dataset['Species'].unique()"
      ],
      "metadata": {
        "colab": {
          "base_uri": "https://localhost:8080/"
        },
        "id": "lw31mgLHxZ4N",
        "outputId": "ea9cb3f1-d7d6-4412-cd16-16755ebf5035"
      },
      "execution_count": 13,
      "outputs": [
        {
          "output_type": "execute_result",
          "data": {
            "text/plain": [
              "array(['Iris-setosa', 'Iris-versicolor', 'Iris-virginica'], dtype=object)"
            ]
          },
          "metadata": {},
          "execution_count": 13
        }
      ]
    },
    {
      "cell_type": "code",
      "source": [
        "df1 = pd.DataFrame(dataset[dataset['Species']=='Iris-setosa'])\n",
        "df1.shape"
      ],
      "metadata": {
        "colab": {
          "base_uri": "https://localhost:8080/"
        },
        "id": "RlrKcJgZcz2I",
        "outputId": "92a4317c-824a-4bef-953b-10cb7749b367"
      },
      "execution_count": 48,
      "outputs": [
        {
          "output_type": "execute_result",
          "data": {
            "text/plain": [
              "(50, 6)"
            ]
          },
          "metadata": {},
          "execution_count": 48
        }
      ]
    },
    {
      "cell_type": "code",
      "source": [
        "df2 = pd.DataFrame(dataset[dataset['Species']=='Iris-versicolor'])\n",
        "df2.shape"
      ],
      "metadata": {
        "colab": {
          "base_uri": "https://localhost:8080/"
        },
        "id": "CgfHwRsDeo03",
        "outputId": "e301d5ec-c371-4c94-f51e-0b8e3c7d4b9b"
      },
      "execution_count": 47,
      "outputs": [
        {
          "output_type": "execute_result",
          "data": {
            "text/plain": [
              "(50, 6)"
            ]
          },
          "metadata": {},
          "execution_count": 47
        }
      ]
    },
    {
      "cell_type": "code",
      "source": [
        "df3 = pd.DataFrame(dataset[dataset['Species']=='Iris-virginica'])\n",
        "df3.shape"
      ],
      "metadata": {
        "colab": {
          "base_uri": "https://localhost:8080/"
        },
        "id": "FTF1_ohoz9g-",
        "outputId": "882a707e-fc4f-411d-ba6e-66865d11b76a"
      },
      "execution_count": 45,
      "outputs": [
        {
          "output_type": "execute_result",
          "data": {
            "text/plain": [
              "(50, 6)"
            ]
          },
          "metadata": {},
          "execution_count": 45
        }
      ]
    },
    {
      "cell_type": "markdown",
      "source": [
        "3.Build a new dataframe, \"train_df\" containing 40 rows from each of the three species dataframes. Hence containing 120 rows."
      ],
      "metadata": {
        "id": "BCHZQPbY0Nsh"
      }
    },
    {
      "cell_type": "code",
      "source": [
        "df4 = df1.iloc[:40]\n",
        "df5 = df2.iloc[:40]\n",
        "df6 = df3.iloc[:40]"
      ],
      "metadata": {
        "id": "QdffUpza0DjZ"
      },
      "execution_count": 34,
      "outputs": []
    },
    {
      "cell_type": "code",
      "source": [
        "train_df = pd.DataFrame()\n",
        "train_df = pd.concat([df4,df5,df6])\n",
        "train_df.shape"
      ],
      "metadata": {
        "colab": {
          "base_uri": "https://localhost:8080/"
        },
        "id": "I7dGxBFC1eJX",
        "outputId": "6c8cfdc9-c4ec-444c-8bd3-fb064423a44b"
      },
      "execution_count": 52,
      "outputs": [
        {
          "output_type": "execute_result",
          "data": {
            "text/plain": [
              "(120, 6)"
            ]
          },
          "metadata": {},
          "execution_count": 52
        }
      ]
    },
    {
      "cell_type": "markdown",
      "source": [
        "4:> similarly build another dataframe, \"test_df\" containing the rest 10 rows from each of the three species dataframes. Hence containing 30 rows."
      ],
      "metadata": {
        "id": "yb--8TjU6GWX"
      }
    },
    {
      "cell_type": "code",
      "source": [
        "df7 = df1.iloc[40:]\n",
        "df8 = df2.iloc[40:]\n",
        "df9 = df3.iloc[40:]"
      ],
      "metadata": {
        "id": "dE8BYafb6G06"
      },
      "execution_count": 53,
      "outputs": []
    },
    {
      "cell_type": "code",
      "source": [
        "test_df = pd.DataFrame()\n",
        "test_df = pd.concat([df7,df8,df9])\n",
        "test_df"
      ],
      "metadata": {
        "colab": {
          "base_uri": "https://localhost:8080/",
          "height": 990
        },
        "id": "zV5-T-1h6tg_",
        "outputId": "13f205c8-feee-4017-9e39-3d84f7b7e8fd"
      },
      "execution_count": 54,
      "outputs": [
        {
          "output_type": "execute_result",
          "data": {
            "text/plain": [
              "      Id  SepalLengthCm  SepalWidthCm  PetalLengthCm  PetalWidthCm  \\\n",
              "40    41            5.0           3.5            1.3           0.3   \n",
              "41    42            4.5           2.3            1.3           0.3   \n",
              "42    43            4.4           3.2            1.3           0.2   \n",
              "43    44            5.0           3.5            1.6           0.6   \n",
              "44    45            5.1           3.8            1.9           0.4   \n",
              "45    46            4.8           3.0            1.4           0.3   \n",
              "46    47            5.1           3.8            1.6           0.2   \n",
              "47    48            4.6           3.2            1.4           0.2   \n",
              "48    49            5.3           3.7            1.5           0.2   \n",
              "49    50            5.0           3.3            1.4           0.2   \n",
              "90    91            5.5           2.6            4.4           1.2   \n",
              "91    92            6.1           3.0            4.6           1.4   \n",
              "92    93            5.8           2.6            4.0           1.2   \n",
              "93    94            5.0           2.3            3.3           1.0   \n",
              "94    95            5.6           2.7            4.2           1.3   \n",
              "95    96            5.7           3.0            4.2           1.2   \n",
              "96    97            5.7           2.9            4.2           1.3   \n",
              "97    98            6.2           2.9            4.3           1.3   \n",
              "98    99            5.1           2.5            3.0           1.1   \n",
              "99   100            5.7           2.8            4.1           1.3   \n",
              "140  141            6.7           3.1            5.6           2.4   \n",
              "141  142            6.9           3.1            5.1           2.3   \n",
              "142  143            5.8           2.7            5.1           1.9   \n",
              "143  144            6.8           3.2            5.9           2.3   \n",
              "144  145            6.7           3.3            5.7           2.5   \n",
              "145  146            6.7           3.0            5.2           2.3   \n",
              "146  147            6.3           2.5            5.0           1.9   \n",
              "147  148            6.5           3.0            5.2           2.0   \n",
              "148  149            6.2           3.4            5.4           2.3   \n",
              "149  150            5.9           3.0            5.1           1.8   \n",
              "\n",
              "             Species  \n",
              "40       Iris-setosa  \n",
              "41       Iris-setosa  \n",
              "42       Iris-setosa  \n",
              "43       Iris-setosa  \n",
              "44       Iris-setosa  \n",
              "45       Iris-setosa  \n",
              "46       Iris-setosa  \n",
              "47       Iris-setosa  \n",
              "48       Iris-setosa  \n",
              "49       Iris-setosa  \n",
              "90   Iris-versicolor  \n",
              "91   Iris-versicolor  \n",
              "92   Iris-versicolor  \n",
              "93   Iris-versicolor  \n",
              "94   Iris-versicolor  \n",
              "95   Iris-versicolor  \n",
              "96   Iris-versicolor  \n",
              "97   Iris-versicolor  \n",
              "98   Iris-versicolor  \n",
              "99   Iris-versicolor  \n",
              "140   Iris-virginica  \n",
              "141   Iris-virginica  \n",
              "142   Iris-virginica  \n",
              "143   Iris-virginica  \n",
              "144   Iris-virginica  \n",
              "145   Iris-virginica  \n",
              "146   Iris-virginica  \n",
              "147   Iris-virginica  \n",
              "148   Iris-virginica  \n",
              "149   Iris-virginica  "
            ],
            "text/html": [
              "\n",
              "  <div id=\"df-03d2cff4-7b9b-40ce-9415-7cce0227a2af\">\n",
              "    <div class=\"colab-df-container\">\n",
              "      <div>\n",
              "<style scoped>\n",
              "    .dataframe tbody tr th:only-of-type {\n",
              "        vertical-align: middle;\n",
              "    }\n",
              "\n",
              "    .dataframe tbody tr th {\n",
              "        vertical-align: top;\n",
              "    }\n",
              "\n",
              "    .dataframe thead th {\n",
              "        text-align: right;\n",
              "    }\n",
              "</style>\n",
              "<table border=\"1\" class=\"dataframe\">\n",
              "  <thead>\n",
              "    <tr style=\"text-align: right;\">\n",
              "      <th></th>\n",
              "      <th>Id</th>\n",
              "      <th>SepalLengthCm</th>\n",
              "      <th>SepalWidthCm</th>\n",
              "      <th>PetalLengthCm</th>\n",
              "      <th>PetalWidthCm</th>\n",
              "      <th>Species</th>\n",
              "    </tr>\n",
              "  </thead>\n",
              "  <tbody>\n",
              "    <tr>\n",
              "      <th>40</th>\n",
              "      <td>41</td>\n",
              "      <td>5.0</td>\n",
              "      <td>3.5</td>\n",
              "      <td>1.3</td>\n",
              "      <td>0.3</td>\n",
              "      <td>Iris-setosa</td>\n",
              "    </tr>\n",
              "    <tr>\n",
              "      <th>41</th>\n",
              "      <td>42</td>\n",
              "      <td>4.5</td>\n",
              "      <td>2.3</td>\n",
              "      <td>1.3</td>\n",
              "      <td>0.3</td>\n",
              "      <td>Iris-setosa</td>\n",
              "    </tr>\n",
              "    <tr>\n",
              "      <th>42</th>\n",
              "      <td>43</td>\n",
              "      <td>4.4</td>\n",
              "      <td>3.2</td>\n",
              "      <td>1.3</td>\n",
              "      <td>0.2</td>\n",
              "      <td>Iris-setosa</td>\n",
              "    </tr>\n",
              "    <tr>\n",
              "      <th>43</th>\n",
              "      <td>44</td>\n",
              "      <td>5.0</td>\n",
              "      <td>3.5</td>\n",
              "      <td>1.6</td>\n",
              "      <td>0.6</td>\n",
              "      <td>Iris-setosa</td>\n",
              "    </tr>\n",
              "    <tr>\n",
              "      <th>44</th>\n",
              "      <td>45</td>\n",
              "      <td>5.1</td>\n",
              "      <td>3.8</td>\n",
              "      <td>1.9</td>\n",
              "      <td>0.4</td>\n",
              "      <td>Iris-setosa</td>\n",
              "    </tr>\n",
              "    <tr>\n",
              "      <th>45</th>\n",
              "      <td>46</td>\n",
              "      <td>4.8</td>\n",
              "      <td>3.0</td>\n",
              "      <td>1.4</td>\n",
              "      <td>0.3</td>\n",
              "      <td>Iris-setosa</td>\n",
              "    </tr>\n",
              "    <tr>\n",
              "      <th>46</th>\n",
              "      <td>47</td>\n",
              "      <td>5.1</td>\n",
              "      <td>3.8</td>\n",
              "      <td>1.6</td>\n",
              "      <td>0.2</td>\n",
              "      <td>Iris-setosa</td>\n",
              "    </tr>\n",
              "    <tr>\n",
              "      <th>47</th>\n",
              "      <td>48</td>\n",
              "      <td>4.6</td>\n",
              "      <td>3.2</td>\n",
              "      <td>1.4</td>\n",
              "      <td>0.2</td>\n",
              "      <td>Iris-setosa</td>\n",
              "    </tr>\n",
              "    <tr>\n",
              "      <th>48</th>\n",
              "      <td>49</td>\n",
              "      <td>5.3</td>\n",
              "      <td>3.7</td>\n",
              "      <td>1.5</td>\n",
              "      <td>0.2</td>\n",
              "      <td>Iris-setosa</td>\n",
              "    </tr>\n",
              "    <tr>\n",
              "      <th>49</th>\n",
              "      <td>50</td>\n",
              "      <td>5.0</td>\n",
              "      <td>3.3</td>\n",
              "      <td>1.4</td>\n",
              "      <td>0.2</td>\n",
              "      <td>Iris-setosa</td>\n",
              "    </tr>\n",
              "    <tr>\n",
              "      <th>90</th>\n",
              "      <td>91</td>\n",
              "      <td>5.5</td>\n",
              "      <td>2.6</td>\n",
              "      <td>4.4</td>\n",
              "      <td>1.2</td>\n",
              "      <td>Iris-versicolor</td>\n",
              "    </tr>\n",
              "    <tr>\n",
              "      <th>91</th>\n",
              "      <td>92</td>\n",
              "      <td>6.1</td>\n",
              "      <td>3.0</td>\n",
              "      <td>4.6</td>\n",
              "      <td>1.4</td>\n",
              "      <td>Iris-versicolor</td>\n",
              "    </tr>\n",
              "    <tr>\n",
              "      <th>92</th>\n",
              "      <td>93</td>\n",
              "      <td>5.8</td>\n",
              "      <td>2.6</td>\n",
              "      <td>4.0</td>\n",
              "      <td>1.2</td>\n",
              "      <td>Iris-versicolor</td>\n",
              "    </tr>\n",
              "    <tr>\n",
              "      <th>93</th>\n",
              "      <td>94</td>\n",
              "      <td>5.0</td>\n",
              "      <td>2.3</td>\n",
              "      <td>3.3</td>\n",
              "      <td>1.0</td>\n",
              "      <td>Iris-versicolor</td>\n",
              "    </tr>\n",
              "    <tr>\n",
              "      <th>94</th>\n",
              "      <td>95</td>\n",
              "      <td>5.6</td>\n",
              "      <td>2.7</td>\n",
              "      <td>4.2</td>\n",
              "      <td>1.3</td>\n",
              "      <td>Iris-versicolor</td>\n",
              "    </tr>\n",
              "    <tr>\n",
              "      <th>95</th>\n",
              "      <td>96</td>\n",
              "      <td>5.7</td>\n",
              "      <td>3.0</td>\n",
              "      <td>4.2</td>\n",
              "      <td>1.2</td>\n",
              "      <td>Iris-versicolor</td>\n",
              "    </tr>\n",
              "    <tr>\n",
              "      <th>96</th>\n",
              "      <td>97</td>\n",
              "      <td>5.7</td>\n",
              "      <td>2.9</td>\n",
              "      <td>4.2</td>\n",
              "      <td>1.3</td>\n",
              "      <td>Iris-versicolor</td>\n",
              "    </tr>\n",
              "    <tr>\n",
              "      <th>97</th>\n",
              "      <td>98</td>\n",
              "      <td>6.2</td>\n",
              "      <td>2.9</td>\n",
              "      <td>4.3</td>\n",
              "      <td>1.3</td>\n",
              "      <td>Iris-versicolor</td>\n",
              "    </tr>\n",
              "    <tr>\n",
              "      <th>98</th>\n",
              "      <td>99</td>\n",
              "      <td>5.1</td>\n",
              "      <td>2.5</td>\n",
              "      <td>3.0</td>\n",
              "      <td>1.1</td>\n",
              "      <td>Iris-versicolor</td>\n",
              "    </tr>\n",
              "    <tr>\n",
              "      <th>99</th>\n",
              "      <td>100</td>\n",
              "      <td>5.7</td>\n",
              "      <td>2.8</td>\n",
              "      <td>4.1</td>\n",
              "      <td>1.3</td>\n",
              "      <td>Iris-versicolor</td>\n",
              "    </tr>\n",
              "    <tr>\n",
              "      <th>140</th>\n",
              "      <td>141</td>\n",
              "      <td>6.7</td>\n",
              "      <td>3.1</td>\n",
              "      <td>5.6</td>\n",
              "      <td>2.4</td>\n",
              "      <td>Iris-virginica</td>\n",
              "    </tr>\n",
              "    <tr>\n",
              "      <th>141</th>\n",
              "      <td>142</td>\n",
              "      <td>6.9</td>\n",
              "      <td>3.1</td>\n",
              "      <td>5.1</td>\n",
              "      <td>2.3</td>\n",
              "      <td>Iris-virginica</td>\n",
              "    </tr>\n",
              "    <tr>\n",
              "      <th>142</th>\n",
              "      <td>143</td>\n",
              "      <td>5.8</td>\n",
              "      <td>2.7</td>\n",
              "      <td>5.1</td>\n",
              "      <td>1.9</td>\n",
              "      <td>Iris-virginica</td>\n",
              "    </tr>\n",
              "    <tr>\n",
              "      <th>143</th>\n",
              "      <td>144</td>\n",
              "      <td>6.8</td>\n",
              "      <td>3.2</td>\n",
              "      <td>5.9</td>\n",
              "      <td>2.3</td>\n",
              "      <td>Iris-virginica</td>\n",
              "    </tr>\n",
              "    <tr>\n",
              "      <th>144</th>\n",
              "      <td>145</td>\n",
              "      <td>6.7</td>\n",
              "      <td>3.3</td>\n",
              "      <td>5.7</td>\n",
              "      <td>2.5</td>\n",
              "      <td>Iris-virginica</td>\n",
              "    </tr>\n",
              "    <tr>\n",
              "      <th>145</th>\n",
              "      <td>146</td>\n",
              "      <td>6.7</td>\n",
              "      <td>3.0</td>\n",
              "      <td>5.2</td>\n",
              "      <td>2.3</td>\n",
              "      <td>Iris-virginica</td>\n",
              "    </tr>\n",
              "    <tr>\n",
              "      <th>146</th>\n",
              "      <td>147</td>\n",
              "      <td>6.3</td>\n",
              "      <td>2.5</td>\n",
              "      <td>5.0</td>\n",
              "      <td>1.9</td>\n",
              "      <td>Iris-virginica</td>\n",
              "    </tr>\n",
              "    <tr>\n",
              "      <th>147</th>\n",
              "      <td>148</td>\n",
              "      <td>6.5</td>\n",
              "      <td>3.0</td>\n",
              "      <td>5.2</td>\n",
              "      <td>2.0</td>\n",
              "      <td>Iris-virginica</td>\n",
              "    </tr>\n",
              "    <tr>\n",
              "      <th>148</th>\n",
              "      <td>149</td>\n",
              "      <td>6.2</td>\n",
              "      <td>3.4</td>\n",
              "      <td>5.4</td>\n",
              "      <td>2.3</td>\n",
              "      <td>Iris-virginica</td>\n",
              "    </tr>\n",
              "    <tr>\n",
              "      <th>149</th>\n",
              "      <td>150</td>\n",
              "      <td>5.9</td>\n",
              "      <td>3.0</td>\n",
              "      <td>5.1</td>\n",
              "      <td>1.8</td>\n",
              "      <td>Iris-virginica</td>\n",
              "    </tr>\n",
              "  </tbody>\n",
              "</table>\n",
              "</div>\n",
              "      <button class=\"colab-df-convert\" onclick=\"convertToInteractive('df-03d2cff4-7b9b-40ce-9415-7cce0227a2af')\"\n",
              "              title=\"Convert this dataframe to an interactive table.\"\n",
              "              style=\"display:none;\">\n",
              "        \n",
              "  <svg xmlns=\"http://www.w3.org/2000/svg\" height=\"24px\"viewBox=\"0 0 24 24\"\n",
              "       width=\"24px\">\n",
              "    <path d=\"M0 0h24v24H0V0z\" fill=\"none\"/>\n",
              "    <path d=\"M18.56 5.44l.94 2.06.94-2.06 2.06-.94-2.06-.94-.94-2.06-.94 2.06-2.06.94zm-11 1L8.5 8.5l.94-2.06 2.06-.94-2.06-.94L8.5 2.5l-.94 2.06-2.06.94zm10 10l.94 2.06.94-2.06 2.06-.94-2.06-.94-.94-2.06-.94 2.06-2.06.94z\"/><path d=\"M17.41 7.96l-1.37-1.37c-.4-.4-.92-.59-1.43-.59-.52 0-1.04.2-1.43.59L10.3 9.45l-7.72 7.72c-.78.78-.78 2.05 0 2.83L4 21.41c.39.39.9.59 1.41.59.51 0 1.02-.2 1.41-.59l7.78-7.78 2.81-2.81c.8-.78.8-2.07 0-2.86zM5.41 20L4 18.59l7.72-7.72 1.47 1.35L5.41 20z\"/>\n",
              "  </svg>\n",
              "      </button>\n",
              "      \n",
              "  <style>\n",
              "    .colab-df-container {\n",
              "      display:flex;\n",
              "      flex-wrap:wrap;\n",
              "      gap: 12px;\n",
              "    }\n",
              "\n",
              "    .colab-df-convert {\n",
              "      background-color: #E8F0FE;\n",
              "      border: none;\n",
              "      border-radius: 50%;\n",
              "      cursor: pointer;\n",
              "      display: none;\n",
              "      fill: #1967D2;\n",
              "      height: 32px;\n",
              "      padding: 0 0 0 0;\n",
              "      width: 32px;\n",
              "    }\n",
              "\n",
              "    .colab-df-convert:hover {\n",
              "      background-color: #E2EBFA;\n",
              "      box-shadow: 0px 1px 2px rgba(60, 64, 67, 0.3), 0px 1px 3px 1px rgba(60, 64, 67, 0.15);\n",
              "      fill: #174EA6;\n",
              "    }\n",
              "\n",
              "    [theme=dark] .colab-df-convert {\n",
              "      background-color: #3B4455;\n",
              "      fill: #D2E3FC;\n",
              "    }\n",
              "\n",
              "    [theme=dark] .colab-df-convert:hover {\n",
              "      background-color: #434B5C;\n",
              "      box-shadow: 0px 1px 3px 1px rgba(0, 0, 0, 0.15);\n",
              "      filter: drop-shadow(0px 1px 2px rgba(0, 0, 0, 0.3));\n",
              "      fill: #FFFFFF;\n",
              "    }\n",
              "  </style>\n",
              "\n",
              "      <script>\n",
              "        const buttonEl =\n",
              "          document.querySelector('#df-03d2cff4-7b9b-40ce-9415-7cce0227a2af button.colab-df-convert');\n",
              "        buttonEl.style.display =\n",
              "          google.colab.kernel.accessAllowed ? 'block' : 'none';\n",
              "\n",
              "        async function convertToInteractive(key) {\n",
              "          const element = document.querySelector('#df-03d2cff4-7b9b-40ce-9415-7cce0227a2af');\n",
              "          const dataTable =\n",
              "            await google.colab.kernel.invokeFunction('convertToInteractive',\n",
              "                                                     [key], {});\n",
              "          if (!dataTable) return;\n",
              "\n",
              "          const docLinkHtml = 'Like what you see? Visit the ' +\n",
              "            '<a target=\"_blank\" href=https://colab.research.google.com/notebooks/data_table.ipynb>data table notebook</a>'\n",
              "            + ' to learn more about interactive tables.';\n",
              "          element.innerHTML = '';\n",
              "          dataTable['output_type'] = 'display_data';\n",
              "          await google.colab.output.renderOutput(dataTable, element);\n",
              "          const docLink = document.createElement('div');\n",
              "          docLink.innerHTML = docLinkHtml;\n",
              "          element.appendChild(docLink);\n",
              "        }\n",
              "      </script>\n",
              "    </div>\n",
              "  </div>\n",
              "  "
            ]
          },
          "metadata": {},
          "execution_count": 54
        }
      ]
    },
    {
      "cell_type": "code",
      "source": [
        "test_df.shape"
      ],
      "metadata": {
        "colab": {
          "base_uri": "https://localhost:8080/"
        },
        "id": "L3UFl_lH6qIG",
        "outputId": "6e4b83c8-2b4d-41f7-acf5-ed00e28588b0"
      },
      "execution_count": 55,
      "outputs": [
        {
          "output_type": "execute_result",
          "data": {
            "text/plain": [
              "(30, 6)"
            ]
          },
          "metadata": {},
          "execution_count": 55
        }
      ]
    },
    {
      "cell_type": "markdown",
      "source": [
        "5:> Check for any NaN or missing values in the dataframes. If present, replace them with 0 if the column type is numeric, else replace with \"missing\"."
      ],
      "metadata": {
        "id": "z1tebQ8v79q4"
      }
    },
    {
      "cell_type": "code",
      "source": [
        "#Checking NaN values\n",
        "train_df.isna().sum()"
      ],
      "metadata": {
        "colab": {
          "base_uri": "https://localhost:8080/"
        },
        "id": "dSCb6ljm7YRh",
        "outputId": "57ceb2a0-542b-4d45-d960-1efaa1b78c4d"
      },
      "execution_count": 56,
      "outputs": [
        {
          "output_type": "execute_result",
          "data": {
            "text/plain": [
              "Id               0\n",
              "SepalLengthCm    0\n",
              "SepalWidthCm     0\n",
              "PetalLengthCm    0\n",
              "PetalWidthCm     0\n",
              "Species          0\n",
              "dtype: int64"
            ]
          },
          "metadata": {},
          "execution_count": 56
        }
      ]
    },
    {
      "cell_type": "code",
      "source": [
        "test_df.isna().sum()"
      ],
      "metadata": {
        "colab": {
          "base_uri": "https://localhost:8080/"
        },
        "id": "YxqQCKJb8bbD",
        "outputId": "607627ab-f5ec-4e15-c621-ace50a582047"
      },
      "execution_count": 57,
      "outputs": [
        {
          "output_type": "execute_result",
          "data": {
            "text/plain": [
              "Id               0\n",
              "SepalLengthCm    0\n",
              "SepalWidthCm     0\n",
              "PetalLengthCm    0\n",
              "PetalWidthCm     0\n",
              "Species          0\n",
              "dtype: int64"
            ]
          },
          "metadata": {},
          "execution_count": 57
        }
      ]
    },
    {
      "cell_type": "markdown",
      "source": [
        "6:> Display the column types in the dataframe"
      ],
      "metadata": {
        "id": "eSogLFOZ86O4"
      }
    },
    {
      "cell_type": "code",
      "source": [
        "train_df.info()"
      ],
      "metadata": {
        "colab": {
          "base_uri": "https://localhost:8080/"
        },
        "id": "itCdB3ST8XT0",
        "outputId": "2af833ce-5935-40cb-dae8-81c55a76d11d"
      },
      "execution_count": 58,
      "outputs": [
        {
          "output_type": "stream",
          "name": "stdout",
          "text": [
            "<class 'pandas.core.frame.DataFrame'>\n",
            "Int64Index: 120 entries, 0 to 139\n",
            "Data columns (total 6 columns):\n",
            " #   Column         Non-Null Count  Dtype  \n",
            "---  ------         --------------  -----  \n",
            " 0   Id             120 non-null    int64  \n",
            " 1   SepalLengthCm  120 non-null    float64\n",
            " 2   SepalWidthCm   120 non-null    float64\n",
            " 3   PetalLengthCm  120 non-null    float64\n",
            " 4   PetalWidthCm   120 non-null    float64\n",
            " 5   Species        120 non-null    object \n",
            "dtypes: float64(4), int64(1), object(1)\n",
            "memory usage: 6.6+ KB\n"
          ]
        }
      ]
    },
    {
      "cell_type": "code",
      "source": [
        "test_df.info()"
      ],
      "metadata": {
        "colab": {
          "base_uri": "https://localhost:8080/"
        },
        "id": "z9xdVkov9CuY",
        "outputId": "a93ff4f9-e975-42b8-8fc0-7520e69edff6"
      },
      "execution_count": 60,
      "outputs": [
        {
          "output_type": "stream",
          "name": "stdout",
          "text": [
            "<class 'pandas.core.frame.DataFrame'>\n",
            "Int64Index: 30 entries, 40 to 149\n",
            "Data columns (total 6 columns):\n",
            " #   Column         Non-Null Count  Dtype  \n",
            "---  ------         --------------  -----  \n",
            " 0   Id             30 non-null     int64  \n",
            " 1   SepalLengthCm  30 non-null     float64\n",
            " 2   SepalWidthCm   30 non-null     float64\n",
            " 3   PetalLengthCm  30 non-null     float64\n",
            " 4   PetalWidthCm   30 non-null     float64\n",
            " 5   Species        30 non-null     object \n",
            "dtypes: float64(4), int64(1), object(1)\n",
            "memory usage: 1.6+ KB\n"
          ]
        }
      ]
    },
    {
      "cell_type": "markdown",
      "source": [
        "7:> without using any inbuilt numpy or pandas functions, compute the mean, mode, median, variance, standard deviation, max, min of each numerical column in both train and test dataframes."
      ],
      "metadata": {
        "id": "TlnIp1zr9L_d"
      }
    },
    {
      "cell_type": "code",
      "source": [
        "#Using all columns except Species and Id\n",
        "#Calculation MEAN of datasets \n",
        " "
      ],
      "metadata": {
        "id": "IcHLp_Pa9HJF"
      },
      "execution_count": 61,
      "outputs": []
    },
    {
      "cell_type": "markdown",
      "source": [
        "#Calculation MEAN of datasets "
      ],
      "metadata": {
        "id": "zO4ppoem9pUu"
      }
    },
    {
      "cell_type": "code",
      "source": [
        "import numpy as np"
      ],
      "metadata": {
        "id": "sDEJT-vd_e_G"
      },
      "execution_count": 65,
      "outputs": []
    },
    {
      "cell_type": "code",
      "source": [
        "def finding_mean(arr):\n",
        "  sum = 0\n",
        "  for i in arr:\n",
        "    sum = i + sum\n",
        "  return sum/len(arr)"
      ],
      "metadata": {
        "id": "MqLLCnWm9oij"
      },
      "execution_count": 63,
      "outputs": []
    },
    {
      "cell_type": "code",
      "source": [
        "print(\"Mean of Sepal length of training data is: \",finding_mean(np.array(train_df['SepalLengthCm'])))\n",
        "print(\"Mean of Sepal length of testing data is: \",finding_mean(np.array(test_df['SepalLengthCm'])))"
      ],
      "metadata": {
        "colab": {
          "base_uri": "https://localhost:8080/"
        },
        "id": "Kg-1Cv01_SI0",
        "outputId": "390cebae-9bc7-4436-aea3-d537af4df952"
      },
      "execution_count": 66,
      "outputs": [
        {
          "output_type": "stream",
          "name": "stdout",
          "text": [
            "Mean of Sepal length of training data is:  5.8900000000000015\n",
            "Mean of Sepal length of testing data is:  5.656666666666666\n"
          ]
        }
      ]
    },
    {
      "cell_type": "code",
      "source": [
        "print(\"Mean of Sepal Width of training data is: \",finding_mean(np.array(train_df['SepalWidthCm'])))\n",
        "print(\"Mean of Sepal Width of testing data is: \",finding_mean(np.array(test_df['SepalWidthCm'])))"
      ],
      "metadata": {
        "colab": {
          "base_uri": "https://localhost:8080/"
        },
        "id": "DQe5VqH2_ZID",
        "outputId": "f0f2d6bf-99f1-4f23-e7a1-dd8e72b7ba1e"
      },
      "execution_count": 68,
      "outputs": [
        {
          "output_type": "stream",
          "name": "stdout",
          "text": [
            "Mean of Sepal Width of training data is:  3.0600000000000014\n",
            "Mean of Sepal Width of testing data is:  3.0300000000000002\n"
          ]
        }
      ]
    },
    {
      "cell_type": "code",
      "source": [
        "print(\"Mean of Petal length of training data is: \",finding_mean(np.array(train_df['PetalLengthCm'])))\n",
        "print(\"Mean of Petal length of testing data is: \",finding_mean(np.array(test_df['PetalLengthCm'])))"
      ],
      "metadata": {
        "colab": {
          "base_uri": "https://localhost:8080/"
        },
        "id": "er_tj4hT_sMY",
        "outputId": "70011efa-dfb5-4818-f6e8-5c05b8b91410"
      },
      "execution_count": 69,
      "outputs": [
        {
          "output_type": "stream",
          "name": "stdout",
          "text": [
            "Mean of Petal length of training data is:  3.7958333333333347\n",
            "Mean of Petal length of testing data is:  3.6100000000000003\n"
          ]
        }
      ]
    },
    {
      "cell_type": "code",
      "source": [
        "print(\"Mean of Petal Width of training data is: \",finding_mean(np.array(train_df['PetalWidthCm'])))\n",
        "print(\"Mean of Petal Width of testing data is: \",finding_mean(np.array(test_df['PetalWidthCm'])))"
      ],
      "metadata": {
        "colab": {
          "base_uri": "https://localhost:8080/"
        },
        "id": "Mb4OTa1L_2WO",
        "outputId": "80583151-f7a5-42f4-9779-d3253e88e365"
      },
      "execution_count": 70,
      "outputs": [
        {
          "output_type": "stream",
          "name": "stdout",
          "text": [
            "Mean of Petal Width of training data is:  1.1908333333333334\n",
            "Mean of Petal Width of testing data is:  1.2299999999999998\n"
          ]
        }
      ]
    },
    {
      "cell_type": "markdown",
      "source": [
        "#Calculating Median of both dataset."
      ],
      "metadata": {
        "id": "asxRk-lUABJI"
      }
    },
    {
      "cell_type": "code",
      "source": [
        "def finding_median(arr):\n",
        "  arr.sort()\n",
        "  return arr[len(arr)//2]"
      ],
      "metadata": {
        "id": "3cUJqvXZ_-l0"
      },
      "execution_count": 74,
      "outputs": []
    },
    {
      "cell_type": "code",
      "source": [
        "print(\"Median of Sepal length of training data is: \",finding_median(np.array(train_df['SepalLengthCm'])))\n",
        "print(\"Median of Sepal length of testing data is: \",finding_median(np.array(test_df['SepalLengthCm'])))\n",
        "print()\n",
        "print(\"Median of Sepal Width of training data is: \",finding_median(np.array(train_df['SepalWidthCm'])))\n",
        "print(\"Median of Sepal Width of testing data is: \",finding_median(np.array(test_df['SepalWidthCm'])))\n",
        "print()\n",
        "print(\"Median of Petal length of training data is: \",finding_median(np.array(train_df['PetalLengthCm'])))\n",
        "print(\"Median of Petal length of testing data is: \",finding_median(np.array(test_df['PetalLengthCm'])))\n",
        "print()\n",
        "print(\"Median of Petal Width of training data is: \",finding_median(np.array(train_df['PetalWidthCm'])))\n",
        "print(\"Median of Petal Width of testing data is: \",finding_median(np.array(test_df['PetalWidthCm'])))"
      ],
      "metadata": {
        "colab": {
          "base_uri": "https://localhost:8080/"
        },
        "id": "Nyhj8nmLAWDi",
        "outputId": "5de1f749-80f8-4d9b-f517-4b0d1aadf67b"
      },
      "execution_count": 75,
      "outputs": [
        {
          "output_type": "stream",
          "name": "stdout",
          "text": [
            "Median of Sepal length of training data is:  5.8\n",
            "Median of Sepal length of testing data is:  5.7\n",
            "\n",
            "Median of Sepal Width of training data is:  3.0\n",
            "Median of Sepal Width of testing data is:  3.0\n",
            "\n",
            "Median of Petal length of training data is:  4.5\n",
            "Median of Petal length of testing data is:  4.2\n",
            "\n",
            "Median of Petal Width of training data is:  1.4\n",
            "Median of Petal Width of testing data is:  1.3\n"
          ]
        }
      ]
    },
    {
      "cell_type": "markdown",
      "source": [
        "#Calculating Variance of both dataset."
      ],
      "metadata": {
        "id": "fgqkotNtBmA5"
      }
    },
    {
      "cell_type": "code",
      "source": [
        "def finding_var(arr):\n",
        "  mean = finding_mean(arr)\n",
        "  sum = 0\n",
        "  for i in arr:\n",
        "    sum = ((i - mean)**2) + sum\n",
        "  return sum/len(arr)"
      ],
      "metadata": {
        "id": "cp5PBb9CBeZc"
      },
      "execution_count": 76,
      "outputs": []
    },
    {
      "cell_type": "code",
      "source": [],
      "metadata": {
        "id": "YvqHQi03DhMS"
      },
      "execution_count": null,
      "outputs": []
    },
    {
      "cell_type": "code",
      "source": [
        "print(\"var of Sepal length of training data is: \",finding_var(np.array(train_df['SepalLengthCm'])))\n",
        "print(\"var of Sepal length of testing data is: \",finding_var(np.array(test_df['SepalLengthCm'])))\n",
        "print()\n",
        "print(\"var of Sepal Width of training data is: \",finding_var(np.array(train_df['SepalWidthCm'])))\n",
        "print(\"var of Sepal Width of testing data is: \",finding_var(np.array(test_df['SepalWidthCm'])))\n",
        "print()\n",
        "print(\"var of Petal length of training data is: \",finding_var(np.array(train_df['PetalLengthCm'])))\n",
        "print(\"var of Petal length of testing data is: \",finding_var(np.array(test_df['PetalLengthCm'])))\n",
        "print()\n",
        "print(\"var of Petal Width of training data is: \",finding_var(np.array(train_df['PetalWidthCm'])))\n",
        "print(\"var of Petal Width of testing data is: \",finding_var(np.array(test_df['PetalWidthCm'])))"
      ],
      "metadata": {
        "colab": {
          "base_uri": "https://localhost:8080/"
        },
        "id": "54K7GWe3Ce33",
        "outputId": "6e7a5b06-1dd0-4177-8aa9-cbac51bc66e4"
      },
      "execution_count": 77,
      "outputs": [
        {
          "output_type": "stream",
          "name": "stdout",
          "text": [
            "var of Sepal length of training data is:  0.7095666666666662\n",
            "var of Sepal length of testing data is:  0.523788888888889\n",
            "\n",
            "var of Sepal Width of training data is:  0.19356666666666672\n",
            "var of Sepal Width of testing data is:  0.15876666666666667\n",
            "\n",
            "var of Petal length of training data is:  3.187565972222224\n",
            "var of Petal length of testing data is:  2.6842333333333337\n",
            "\n",
            "var of Petal Width of training data is:  0.5688326388888888\n",
            "var of Petal Width of testing data is:  0.6160999999999996\n"
          ]
        }
      ]
    },
    {
      "cell_type": "markdown",
      "source": [
        "# Calculating Standard Deviation of both dataset."
      ],
      "metadata": {
        "id": "rgt5J8k_DN4G"
      }
    },
    {
      "cell_type": "code",
      "source": [
        "def  finding_sd(arr):\n",
        "  variance = finding_var(arr)\n",
        "  return variance**0.5"
      ],
      "metadata": {
        "id": "zwGOL5SxDGMo"
      },
      "execution_count": 82,
      "outputs": []
    },
    {
      "cell_type": "code",
      "source": [
        "print(\"sd of Sepal length of training data is: \",finding_sd(np.array(train_df['SepalLengthCm'])))\n",
        "print(\"sd of Sepal length of testing data is: \",finding_sd(np.array(test_df['SepalLengthCm'])))\n",
        "print()\n",
        "print(\"sd of Sepal Width of training data is: \",finding_sd(np.array(train_df['SepalWidthCm'])))\n",
        "print(\"sd of Sepal Width of testing data is: \",finding_sd(np.array(test_df['SepalWidthCm'])))\n",
        "print()\n",
        "print(\"sd of Petal length of training data is: \",finding_sd(np.array(train_df['PetalLengthCm'])))\n",
        "print(\"sd of Petal length of testing data is: \",finding_sd(np.array(test_df['PetalLengthCm'])))\n",
        "print()\n",
        "print(\"sd of Petal Width of training data is: \",finding_sd(np.array(train_df['PetalWidthCm'])))\n",
        "print(\"sd of Petal Width of testing data is: \",finding_sd(np.array(test_df['PetalWidthCm'])))"
      ],
      "metadata": {
        "colab": {
          "base_uri": "https://localhost:8080/"
        },
        "id": "55o9DvKLDlbq",
        "outputId": "f88fca33-6ffc-4c65-e6d9-255ba126b1bf"
      },
      "execution_count": 83,
      "outputs": [
        {
          "output_type": "stream",
          "name": "stdout",
          "text": [
            "sd of Sepal length of training data is:  0.8423578020453459\n",
            "sd of Sepal length of testing data is:  0.7237326086952894\n",
            "\n",
            "sd of Sepal Width of training data is:  0.4399621195815234\n",
            "sd of Sepal Width of testing data is:  0.3984553509073089\n",
            "\n",
            "sd of Petal length of training data is:  1.7853755829578895\n",
            "sd of Petal length of testing data is:  1.6383630041395996\n",
            "\n",
            "sd of Petal Width of training data is:  0.7542099435096894\n",
            "sd of Petal Width of testing data is:  0.784920378127616\n"
          ]
        }
      ]
    },
    {
      "cell_type": "markdown",
      "source": [
        "#Calculating Min and Max for both datasets."
      ],
      "metadata": {
        "id": "DUBV7pnXEKx9"
      }
    },
    {
      "cell_type": "code",
      "source": [
        "def finding_min(arr):\n",
        "  mini = arr[0]\n",
        "  for i in arr[1:]:\n",
        "    if mini>i:\n",
        "      mini=i\n",
        "  return mini\n",
        "def finding_max(arr):\n",
        "  maxi = arr[0]\n",
        "  for i in arr[1:]:\n",
        "    if maxi<i:\n",
        "      maxi=i\n",
        "  return maxi"
      ],
      "metadata": {
        "id": "92Iz6G1SDoOR"
      },
      "execution_count": 87,
      "outputs": []
    },
    {
      "cell_type": "code",
      "source": [
        "print(\"min of Sepal length of training data is: \",finding_min(np.array(train_df['SepalLengthCm'])))\n",
        "print(\"min of Sepal length of testing data is: \",finding_min(np.array(test_df['SepalLengthCm'])))\n",
        "print()\n",
        "print(\"min of Sepal Width of training data is: \",finding_min(np.array(train_df['SepalWidthCm'])))\n",
        "print(\"min of Sepal Width of testing data is: \",finding_min(np.array(test_df['SepalWidthCm'])))\n",
        "print()\n",
        "print(\"min of Petal length of training data is: \",finding_min(np.array(train_df['PetalLengthCm'])))\n",
        "print(\"min of Petal length of testing data is: \",finding_min(np.array(test_df['PetalLengthCm'])))\n",
        "print()\n",
        "print(\"min of Petal Width of training data is: \",finding_min(np.array(train_df['PetalWidthCm'])))\n",
        "print(\"min of Petal Width of testing data is: \",finding_min(np.array(test_df['PetalWidthCm'])))"
      ],
      "metadata": {
        "colab": {
          "base_uri": "https://localhost:8080/"
        },
        "id": "1nbY-95yEnZ2",
        "outputId": "7dbaaecd-f0f6-46f7-a156-bb4b98df52bc"
      },
      "execution_count": 88,
      "outputs": [
        {
          "output_type": "stream",
          "name": "stdout",
          "text": [
            "min of Sepal length of training data is:  4.3\n",
            "min of Sepal length of testing data is:  4.4\n",
            "\n",
            "min of Sepal Width of training data is:  2.0\n",
            "min of Sepal Width of testing data is:  2.3\n",
            "\n",
            "min of Petal length of training data is:  1.0\n",
            "min of Petal length of testing data is:  1.3\n",
            "\n",
            "min of Petal Width of training data is:  0.1\n",
            "min of Petal Width of testing data is:  0.2\n"
          ]
        }
      ]
    },
    {
      "cell_type": "code",
      "source": [
        "print(\"max of Sepal length of training data is: \",finding_max(np.array(train_df['SepalLengthCm'])))\n",
        "print(\"max of Sepal length of testing data is: \",finding_max(np.array(test_df['SepalLengthCm'])))\n",
        "print()\n",
        "print(\"max of Sepal Width of training data is: \",finding_max(np.array(train_df['SepalWidthCm'])))\n",
        "print(\"max of Sepal Width of testing data is: \",finding_max(np.array(test_df['SepalWidthCm'])))\n",
        "print()\n",
        "print(\"max of Petal length of training data is: \",finding_max(np.array(train_df['PetalLengthCm'])))\n",
        "print(\"max of Petal length of testing data is: \",finding_max(np.array(test_df['PetalLengthCm'])))\n",
        "print()\n",
        "print(\"max of Petal Width of training data is: \",finding_max(np.array(train_df['PetalWidthCm'])))\n",
        "print(\"max of Petal Width of testing data is: \",finding_max(np.array(test_df['PetalWidthCm'])))"
      ],
      "metadata": {
        "colab": {
          "base_uri": "https://localhost:8080/"
        },
        "id": "3ZhVu7_sFh1d",
        "outputId": "a9f9c675-fd67-436d-9677-2d9b59786649"
      },
      "execution_count": 89,
      "outputs": [
        {
          "output_type": "stream",
          "name": "stdout",
          "text": [
            "max of Sepal length of training data is:  7.9\n",
            "max of Sepal length of testing data is:  6.9\n",
            "\n",
            "max of Sepal Width of training data is:  4.4\n",
            "max of Sepal Width of testing data is:  3.8\n",
            "\n",
            "max of Petal length of training data is:  6.9\n",
            "max of Petal length of testing data is:  5.9\n",
            "\n",
            "max of Petal Width of training data is:  2.5\n",
            "max of Petal Width of testing data is:  2.5\n"
          ]
        }
      ]
    },
    {
      "cell_type": "markdown",
      "source": [
        "#8:> Without using any inbuilt numpy or pandas function, compute the correlation between each pair of columns (neglect ID and species column) in both train and test dataframes"
      ],
      "metadata": {
        "id": "9EI2O8ONF0v9"
      }
    },
    {
      "cell_type": "code",
      "source": [
        "def finding_corr(arrx,arry):\n",
        "  sdx = finding_sd(arrx)\n",
        "  sdy = finding_sd(arry)\n",
        "  meanx = finding_mean(arrx)\n",
        "  meany = finding_mean(arry)\n",
        "  if len(arrx) != len(arry):\n",
        "    print(\"Error :: Length of arrays are not same\")\n",
        "    return\n",
        "  sum = 0\n",
        "  for i in range(len(arrx)):\n",
        "    sum += (((arrx[i] - meanx)*(arry[i] - meany)))  \n",
        "  return sum/((sdx*sdy)*len(arrx))\n",
        "\n"
      ],
      "metadata": {
        "id": "kdY65joQFJOj"
      },
      "execution_count": 99,
      "outputs": []
    },
    {
      "cell_type": "code",
      "source": [
        "print(\"Correlation between (training data) Sepal Length and Sepal Width: \",finding_corr(np.array(train_df['SepalLengthCm']),np.array(train_df['SepalWidthCm'])))\n",
        "print(\"Correlation between (testing data) Sepal Length and Sepal Width: \",finding_corr(np.array(test_df['SepalLengthCm']),np.array(test_df['SepalWidthCm'])))"
      ],
      "metadata": {
        "colab": {
          "base_uri": "https://localhost:8080/"
        },
        "id": "HDzKnYwQIcyr",
        "outputId": "3b75d4bc-c337-4672-b354-23a124fb6c8b"
      },
      "execution_count": 100,
      "outputs": [
        {
          "output_type": "stream",
          "name": "stdout",
          "text": [
            "Correlation between (training data) Sepal Length and Sepal Width:  -0.1278987951503491\n",
            "Correlation between (testing data) Sepal Length and Sepal Width:  -0.0382603496767529\n"
          ]
        }
      ]
    },
    {
      "cell_type": "code",
      "source": [
        "print(\"Correlation between (training data) Sepal Length and Sepal Width: \",finding_corr(np.array(train_df['SepalLengthCm']),np.array(train_df['SepalWidthCm'])))\n",
        "print(\"Correlation between (testing data) Sepal Length and Sepal Width: \",finding_corr(np.array(test_df['SepalLengthCm']),np.array(test_df['SepalWidthCm'])))\n",
        "print()\n",
        "print(\"Correlation between (training data) Sepal Length and Petal Length: \",finding_corr(np.array(train_df['SepalLengthCm']),np.array(train_df['PetalLengthCm'])))\n",
        "print(\"Correlation between (testing data) Sepal Length and Petal Length: \",finding_corr(np.array(test_df['SepalLengthCm']),np.array(test_df['PetalLengthCm'])))\n",
        "print()\n",
        "print(\"Correlation between (training data) Sepal Length and Petal Width: \",finding_corr(np.array(train_df['SepalLengthCm']),np.array(train_df['PetalWidthCm'])))\n",
        "print(\"Correlation between (testing data) Sepal Length and Petal Width: \",finding_corr(np.array(test_df['SepalLengthCm']),np.array(test_df['PetalWidthCm'])))\n",
        "print()\n",
        "print(\"Correlation between (training data) Petal Length and Sepal Width: \",finding_corr(np.array(train_df['PetalLengthCm']),np.array(train_df['SepalWidthCm'])))\n",
        "print(\"Correlation between (testing data) Petal Length and Sepal Width: \",finding_corr(np.array(test_df['PetalLengthCm']),np.array(test_df['SepalWidthCm'])))\n",
        "print()\n",
        "print(\"Correlation between (training data) Petal Length and Petal Width: \",finding_corr(np.array(train_df['PetalLengthCm']),np.array(train_df['PetalWidthCm'])))\n",
        "print(\"Correlation between (testing data) Petal Length and Petal Width: \",finding_corr(np.array(test_df['PetalLengthCm']),np.array(test_df['PetalWidthCm'])))\n",
        "print()\n",
        "print(\"Correlation between (training data) Sepal Width and Petal Width: \",finding_corr(np.array(train_df['SepalWidthCm']),np.array(train_df['PetalWidthCm'])))\n",
        "print(\"Correlation between (testing data) Sepal Width and Petal Width: \",finding_corr(np.array(test_df['SepalWidthCm']),np.array(test_df['PetalWidthCm'])))"
      ],
      "metadata": {
        "colab": {
          "base_uri": "https://localhost:8080/"
        },
        "id": "p4clXsEVJYZd",
        "outputId": "236b59d0-449b-4d72-d2f2-b2cb44117c32"
      },
      "execution_count": 102,
      "outputs": [
        {
          "output_type": "stream",
          "name": "stdout",
          "text": [
            "Correlation between (training data) Sepal Length and Sepal Width:  -0.1278987951503491\n",
            "Correlation between (testing data) Sepal Length and Sepal Width:  -0.0382603496767529\n",
            "\n",
            "Correlation between (training data) Sepal Length and Petal Length:  0.8662056208850376\n",
            "Correlation between (testing data) Sepal Length and Petal Length:  0.9111915867227872\n",
            "\n",
            "Correlation between (training data) Sepal Length and Petal Width:  0.8057556192200064\n",
            "Correlation between (testing data) Sepal Length and Petal Width:  0.9276398555182577\n",
            "\n",
            "Correlation between (training data) Petal Length and Sepal Width:  -0.44727485077762374\n",
            "Correlation between (testing data) Petal Length and Sepal Width:  -0.30171919425567306\n",
            "\n",
            "Correlation between (training data) Petal Length and Petal Width:  0.9657126632383498\n",
            "Correlation between (testing data) Petal Length and Petal Width:  0.9666005499327636\n",
            "\n",
            "Correlation between (training data) Sepal Width and Petal Width:  -0.3868518912588373\n",
            "Correlation between (testing data) Sepal Width and Petal Width:  -0.2288260805939023\n"
          ]
        }
      ]
    },
    {
      "cell_type": "markdown",
      "source": [
        "9:> In train dataset, take the two columns having the highest correlation and fit a line between them using the linear regression class of sklearn. For Example, suppose SepalLength and SepalWidth has highest correlation, then you have to predict SepalLength, given SepalWidth (this is nothing but 2D LinearRegression). After that, Plot the line alongwith the corresponding SepalLength and SepalWidth Values from the test_df dataframe"
      ],
      "metadata": {
        "id": "8_kXiJFELid2"
      }
    },
    {
      "cell_type": "code",
      "source": [
        "# Petal Length and Petal Width has the highest Correlation\n",
        "c1 = np.array(train_df['PetalLengthCm']).reshape(-1,1)\n",
        "c2 = np.array(train_df['PetalWidthCm']).reshape(-1,1)"
      ],
      "metadata": {
        "id": "YYMBf3yuItIa"
      },
      "execution_count": 103,
      "outputs": []
    },
    {
      "cell_type": "code",
      "source": [
        "from sklearn.linear_model import LinearRegression\n",
        "import matplotlib.pyplot as plt\n",
        "model = LinearRegression()"
      ],
      "metadata": {
        "id": "dhM9mILqLsmN"
      },
      "execution_count": 104,
      "outputs": []
    },
    {
      "cell_type": "code",
      "source": [
        "model.fit(c2,c1)\n",
        "print(\"Slope is: \",model.coef_)\n",
        "print(\"intercept is: \",model.intercept_)"
      ],
      "metadata": {
        "colab": {
          "base_uri": "https://localhost:8080/"
        },
        "id": "c5NOKk9-Lu_j",
        "outputId": "ecf9114c-4702-4122-8fc5-1655af3443b0"
      },
      "execution_count": 105,
      "outputs": [
        {
          "output_type": "stream",
          "name": "stdout",
          "text": [
            "Slope is:  [[2.28604757]]\n",
            "intercept is:  [1.07353168]\n"
          ]
        }
      ]
    },
    {
      "cell_type": "markdown",
      "source": [
        "Equation of Regression Line is: 2.286*x + 1.0735)"
      ],
      "metadata": {
        "id": "iupo-C8lL1cq"
      }
    },
    {
      "cell_type": "code",
      "source": [
        "pred_y = 2.286*c2 + 1.0735"
      ],
      "metadata": {
        "id": "mbS6m-wYLxnP"
      },
      "execution_count": 106,
      "outputs": []
    },
    {
      "cell_type": "code",
      "source": [
        "plt.scatter(c2,c1)\n",
        "plt.plot(c2,pred_y,color='red')\n",
        "plt.title('Training DataSet')\n",
        "plt.xlabel('Petal Width in Cm')\n",
        "plt.ylabel('Petal Length in Cm')"
      ],
      "metadata": {
        "colab": {
          "base_uri": "https://localhost:8080/",
          "height": 312
        },
        "id": "UncXooODL4jt",
        "outputId": "20775120-ed48-4f82-ff5e-cdacb02df520"
      },
      "execution_count": 107,
      "outputs": [
        {
          "output_type": "execute_result",
          "data": {
            "text/plain": [
              "Text(0, 0.5, 'Petal Length in Cm')"
            ]
          },
          "metadata": {},
          "execution_count": 107
        },
        {
          "output_type": "display_data",
          "data": {
            "text/plain": [
              "<Figure size 432x288 with 1 Axes>"
            ],
            "image/png": "[encoded data removed]"
          },
          "metadata": {
            "needs_background": "light"
          }
        }
      ]
    },
    {
      "cell_type": "markdown",
      "source": [
        "\n",
        "10:> Predict the value of PetalLength for every 30 values of PetalWidth in the test_df dataframe using the predicted line."
      ],
      "metadata": {
        "id": "mbAgHY3ZMF-4"
      }
    },
    {
      "cell_type": "code",
      "source": [
        "y_test = 2.286*np.array(test_df['PetalWidthCm']) + 1.0735\n",
        "plt.scatter(np.array(test_df['PetalWidthCm']),np.array(test_df['PetalLengthCm']))\n",
        "x = np.linspace(0,3,100)\n",
        "plt.plot(x,2.286*x+1.0735,color='red')\n",
        "plt.scatter(np.array(test_df['PetalWidthCm']),y_test,color='green')\n",
        "plt.legend(['Test Data','Regression Line','Predicted value for test data'])"
      ],
      "metadata": {
        "colab": {
          "base_uri": "https://localhost:8080/",
          "height": 282
        },
        "id": "L1Hfob8FL979",
        "outputId": "a786b7eb-18ac-4b90-a85c-51cdc78ad7a1"
      },
      "execution_count": 108,
      "outputs": [
        {
          "output_type": "execute_result",
          "data": {
            "text/plain": [
              "<matplotlib.legend.Legend at 0x7f0044099370>"
            ]
          },
          "metadata": {},
          "execution_count": 108
        },
        {
          "output_type": "display_data",
          "data": {
            "text/plain": [
              "<Figure size 432x288 with 1 Axes>"
            ],
            "image/png": "[encoded data removed]"
          },
          "metadata": {
            "needs_background": "light"
          }
        }
      ]
    },
    {
      "cell_type": "markdown",
      "source": [
        "11:> Compute the Mean squared error between the predictions and real petalLength"
      ],
      "metadata": {
        "id": "Rizl-_K9Mglo"
      }
    },
    {
      "cell_type": "code",
      "source": [
        "print(\"Mean Square error for training data is: \",sum((pred_y-c1)**2/len(pred_y)))\n",
        "print(\"Mean Square error for testing data is: \",sum((y_test-np.array(test_df['PetalLengthCm']))**2/len(y_test)))"
      ],
      "metadata": {
        "colab": {
          "base_uri": "https://localhost:8080/"
        },
        "id": "WUDTw1EFMg32",
        "outputId": "f382e167-d324-4156-b53f-592715c0462b"
      },
      "execution_count": 109,
      "outputs": [
        {
          "output_type": "stream",
          "name": "stdout",
          "text": [
            "Mean Square error for training data is:  [0.21483893]\n",
            "Mean Square error for testing data is:  0.2964769273333333\n"
          ]
        }
      ]
    },
    {
      "cell_type": "markdown",
      "source": [
        "12:> At this point you would have predicted \"x\" column using \"y\" column and computed the error in the test_df. You have to do the same whole process, but this time you have to predict \"x\" column using not only \"y\" column but also the remaining 2 columns (whichever it be). Again compute the error. No need to plot or draw anything as it will be 4 dimensional now"
      ],
      "metadata": {
        "id": "S7as4lFuMmdm"
      }
    },
    {
      "cell_type": "code",
      "source": [
        "X = train_df[['SepalLengthCm','SepalWidthCm','PetalWidthCm']]\n",
        "Y = train_df[['PetalLengthCm']]\n",
        "model2 = LinearRegression()\n",
        "model2.fit(X,Y)\n",
        "print(\"Coefficients are: \",model2.coef_)\n",
        "print(\"intercept is: \",model2.intercept_)\n"
      ],
      "metadata": {
        "colab": {
          "base_uri": "https://localhost:8080/"
        },
        "id": "foRekfO4MjJn",
        "outputId": "e44f4e77-d53a-4b89-97e6-99343c4e831b"
      },
      "execution_count": 110,
      "outputs": [
        {
          "output_type": "stream",
          "name": "stdout",
          "text": [
            "Coefficients are:  [[ 0.70874788 -0.64497193  1.50267684]]\n",
            "intercept is:  [-0.19451521]\n"
          ]
        }
      ]
    },
    {
      "cell_type": "markdown",
      "source": [
        "Regression Equation is: 0.7084(SepalLengthCm) - 0.6449(SepalWidthCm) + 1.5026(PetalWidth)"
      ],
      "metadata": {
        "id": "RTkonrMTMtzn"
      }
    },
    {
      "cell_type": "code",
      "source": [
        "pred_Y_train = 0.7084*(train_df['SepalLengthCm']) - 0.6449*(train_df['SepalWidthCm']) + 1.5026*(train_df['PetalWidthCm'])"
      ],
      "metadata": {
        "id": "Xe_FLWxHMsx-"
      },
      "execution_count": 112,
      "outputs": []
    },
    {
      "cell_type": "code",
      "source": [
        "pred_Y_test = 0.7084*(test_df['SepalLengthCm']) - 0.6449*(test_df['SepalWidthCm']) + 1.5026*(test_df['PetalWidthCm'])"
      ],
      "metadata": {
        "id": "7ZzZn6w4M0bE"
      },
      "execution_count": 113,
      "outputs": []
    },
    {
      "cell_type": "code",
      "source": [
        "print(\"Mean Square error for Train Data is: \",sum(((pred_Y_train - train_df['PetalLengthCm'])**2)/len(pred_Y_train)))\n",
        "print(\"Mean Square error for Test Data is: \",sum(((pred_Y_test - test_df['PetalLengthCm'])**2)/len(pred_Y_test)))"
      ],
      "metadata": {
        "colab": {
          "base_uri": "https://localhost:8080/"
        },
        "id": "EKVqvEiSM2i-",
        "outputId": "f68fa8bf-56de-4348-afe2-3f6aa4a0de55"
      },
      "execution_count": 114,
      "outputs": [
        {
          "output_type": "stream",
          "name": "stdout",
          "text": [
            "Mean Square error for Train Data is:  0.12071834905166669\n",
            "Mean Square error for Test Data is:  0.23928960940999994\n"
          ]
        }
      ]
    },
    {
      "cell_type": "markdown",
      "source": [
        "Multivariable Linear Regression produces less error than simple linear regression"
      ],
      "metadata": {
        "id": "C8Zey15GM-Ka"
      }
    },
    {
      "cell_type": "code",
      "source": [],
      "metadata": {
        "id": "y2BSS9WCM5pG"
      },
      "execution_count": null,
      "outputs": []
    }
  ]
}