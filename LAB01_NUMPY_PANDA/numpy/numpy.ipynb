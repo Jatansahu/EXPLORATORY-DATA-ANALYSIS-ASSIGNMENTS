{
 "cells": [
  {
   "cell_type": "code",
   "execution_count": 26,
   "metadata": {},
   "outputs": [],
   "source": [
    "import numpy as np"
   ]
  },
  {
   "cell_type": "markdown",
   "metadata": {},
   "source": [
    "###### Python Lists: can hold different data types"
   ]
  },
  {
   "cell_type": "code",
   "execution_count": 27,
   "metadata": {},
   "outputs": [
    {
     "name": "stdout",
     "output_type": "stream",
     "text": [
      "<class 'float'>\n",
      "<class 'int'>\n",
      "<class 'str'>\n",
      "[1, 'sachin', 2, 3, 4, 90.8]\n"
     ]
    }
   ],
   "source": [
    "things = [1,\"sachin\",2,3,4,90.8]\n",
    "print(type(things[-1])) # Reverse indexing\n",
    "print(type(things[-2]))\n",
    "print(type(things[1]))\n",
    "print(things)"
   ]
  },
  {
   "cell_type": "markdown",
   "metadata": {},
   "source": [
    "###### Numpy arrays: can store only one type of data or object, if input is multiple data type then it will get converted into one with preference of str > float > int"
   ]
  },
  {
   "cell_type": "code",
   "execution_count": 28,
   "metadata": {},
   "outputs": [
    {
     "name": "stdout",
     "output_type": "stream",
     "text": [
      "<class 'numpy.str_'>\n",
      "<class 'numpy.str_'>\n",
      "['1' '1' '2.0' 'sachin']\n"
     ]
    }
   ],
   "source": [
    "onedim = np.array([1, 1, 2.0, \"sachin\"])\n",
    "print(type(onedim[-1])) # Reverse indexing\n",
    "print(type(onedim[1]))\n",
    "print(onedim)"
   ]
  },
  {
   "cell_type": "code",
   "execution_count": 93,
   "metadata": {},
   "outputs": [
    {
     "data": {
      "text/plain": [
       "array([5, 7, 9])"
      ]
     },
     "execution_count": 93,
     "metadata": {},
     "output_type": "execute_result"
    }
   ],
   "source": [
    "# arange function:\n",
    "np.arange(5,10,2) # start, end, step"
   ]
  },
  {
   "cell_type": "code",
   "execution_count": 104,
   "metadata": {},
   "outputs": [
    {
     "name": "stdout",
     "output_type": "stream",
     "text": [
      "[1 2 3 6 6]\n"
     ]
    }
   ],
   "source": [
    "ap = np.array([1,2,3])\n",
    "for i in np.arange(2):\n",
    "    ap = np.append(ap,6)\n",
    "print(ap)\n"
   ]
  },
  {
   "cell_type": "markdown",
   "metadata": {},
   "source": [
    "###### Multidimensional array:"
   ]
  },
  {
   "cell_type": "code",
   "execution_count": 29,
   "metadata": {},
   "outputs": [
    {
     "name": "stdout",
     "output_type": "stream",
     "text": [
      "[[1 2 2]\n",
      " [1 2 5]]\n"
     ]
    }
   ],
   "source": [
    "multidim = np.array([[1,2,2],[1,2,5]])\n",
    "print(multidim)"
   ]
  },
  {
   "cell_type": "markdown",
   "metadata": {},
   "source": [
    "###### Dimension and shape of array:"
   ]
  },
  {
   "cell_type": "code",
   "execution_count": 30,
   "metadata": {},
   "outputs": [
    {
     "name": "stdout",
     "output_type": "stream",
     "text": [
      "1\n",
      "(4,)\n",
      "2\n",
      "(2, 3)\n",
      "3\n"
     ]
    }
   ],
   "source": [
    "print(onedim.ndim)\n",
    "print(onedim.shape)\n",
    "print(multidim.ndim)\n",
    "print(multidim.shape) #returns a tuple\n",
    "print(multidim.shape[1])"
   ]
  },
  {
   "cell_type": "markdown",
   "metadata": {},
   "source": [
    "###### Note: when a numpy array is one dimensional, the shape output will be of the form \"(x,)\" instead of \"(x)\" inorder to avoid confusion with an integer in parantheses. So it basically distinguishes between a one-element tuple from a paranthesized number."
   ]
  },
  {
   "cell_type": "markdown",
   "metadata": {},
   "source": [
    "###### To get the type of array:"
   ]
  },
  {
   "cell_type": "code",
   "execution_count": 31,
   "metadata": {},
   "outputs": [
    {
     "name": "stdout",
     "output_type": "stream",
     "text": [
      "int32\n",
      "<class 'numpy.ndarray'>\n",
      "<class 'numpy.int32'>\n"
     ]
    }
   ],
   "source": [
    "print(multidim.dtype)\n",
    "print(type(multidim))\n",
    "print(type(multidim[1][0]))"
   ]
  },
  {
   "cell_type": "markdown",
   "metadata": {},
   "source": [
    "###### Thing to avoid: Mismatching axis dimensions in multidimensional arrays"
   ]
  },
  {
   "cell_type": "code",
   "execution_count": 32,
   "metadata": {},
   "outputs": [
    {
     "name": "stdout",
     "output_type": "stream",
     "text": [
      "[list([1, 2]) list([1, 2, 5])]\n"
     ]
    },
    {
     "name": "stderr",
     "output_type": "stream",
     "text": [
      "C:\\Users\\HARSH\\AppData\\Local\\Temp/ipykernel_13408/1777343153.py:1: VisibleDeprecationWarning: Creating an ndarray from ragged nested sequences (which is a list-or-tuple of lists-or-tuples-or ndarrays with different lengths or shapes) is deprecated. If you meant to do this, you must specify 'dtype=object' when creating the ndarray.\n",
      "  multidim_avoid = np.array([[1,2],[1,2,5]])\n"
     ]
    }
   ],
   "source": [
    "multidim_avoid = np.array([[1,2],[1,2,5]])\n",
    "print(multidim_avoid)"
   ]
  },
  {
   "cell_type": "code",
   "execution_count": 33,
   "metadata": {},
   "outputs": [
    {
     "name": "stdout",
     "output_type": "stream",
     "text": [
      "[list([1, 2]) list([1, 2, 5])]\n"
     ]
    }
   ],
   "source": [
    "multidim_avoid = np.array([[1,2],[1,2,5]], dtype='object')\n",
    "print(multidim_avoid) # numpy array of lists. This is bad cause now it has lost it's speed since it no longer is fully a numpy array."
   ]
  },
  {
   "cell_type": "markdown",
   "metadata": {},
   "source": [
    "###### overiding default type: overiding the default type in numpy (int32 and float64); do this to optimize your memory utilization"
   ]
  },
  {
   "cell_type": "code",
   "execution_count": 34,
   "metadata": {},
   "outputs": [
    {
     "name": "stdout",
     "output_type": "stream",
     "text": [
      "2\n",
      "int8\n"
     ]
    }
   ],
   "source": [
    "multidim_overide = np.array([1,2.8,3], dtype = 'int8') #you can also use int16,32,64 or float16,32,64\n",
    "print(multidim_overide[1])\n",
    "print(multidim_overide.dtype)"
   ]
  },
  {
   "cell_type": "markdown",
   "metadata": {},
   "source": [
    "###### changing type of an array:\n"
   ]
  },
  {
   "cell_type": "code",
   "execution_count": 35,
   "metadata": {},
   "outputs": [
    {
     "name": "stdout",
     "output_type": "stream",
     "text": [
      "int64\n",
      "int8 \n",
      "\n"
     ]
    }
   ],
   "source": [
    "w = np.array([1,2,3,4], dtype = 'int64')\n",
    "print(w.dtype)\n",
    "w = w.astype('int8')\n",
    "print(w.dtype,'\\n')"
   ]
  },
  {
   "cell_type": "markdown",
   "metadata": {},
   "source": [
    "###### get size of one element of numpy array:\n"
   ]
  },
  {
   "cell_type": "code",
   "execution_count": 37,
   "metadata": {},
   "outputs": [
    {
     "name": "stdout",
     "output_type": "stream",
     "text": [
      "4\n",
      "1\n"
     ]
    }
   ],
   "source": [
    "print(multidim.itemsize) # int64 takes 4 bytes of space\n",
    "print(multidim_overide.itemsize) # int8 takes 1 byte of space"
   ]
  },
  {
   "cell_type": "markdown",
   "metadata": {},
   "source": [
    "###### get total number of elements or length of numpy array:"
   ]
  },
  {
   "cell_type": "code",
   "execution_count": 38,
   "metadata": {},
   "outputs": [
    {
     "name": "stdout",
     "output_type": "stream",
     "text": [
      "6\n",
      "3\n"
     ]
    }
   ],
   "source": [
    "print(multidim.size)\n",
    "print(multidim_overide.size)"
   ]
  },
  {
   "cell_type": "markdown",
   "metadata": {},
   "source": [
    "###### get total size of numpy array:\n"
   ]
  },
  {
   "cell_type": "code",
   "execution_count": 39,
   "metadata": {},
   "outputs": [
    {
     "name": "stdout",
     "output_type": "stream",
     "text": [
      "24\n",
      "24\n",
      "3\n",
      "3\n"
     ]
    }
   ],
   "source": [
    "print(multidim.size * multidim.itemsize)\n",
    "print(multidim.nbytes) #another way\n",
    "print(multidim_overide.size * multidim_overide.itemsize)\n",
    "print(multidim_overide.nbytes)"
   ]
  },
  {
   "cell_type": "markdown",
   "metadata": {},
   "source": [
    "###### Accessing/changing specific elements, rows, cols, etc:\n"
   ]
  },
  {
   "cell_type": "code",
   "execution_count": 41,
   "metadata": {},
   "outputs": [
    {
     "name": "stdout",
     "output_type": "stream",
     "text": [
      "a = [[ 1  2  3  4  5  6  7]\n",
      " [ 8  9 10 11 12 13 14]\n",
      " [ 1  2  3  4  5  6  7]]\n",
      "10\n",
      "10\n",
      "6\n",
      "6\n"
     ]
    }
   ],
   "source": [
    "a = np.array([[1,2,3,4,5,6,7],[8,9,10,11,12,13,14],[1,2,3,4,5,6,7]], dtype = 'int32')\n",
    "print(\"a =\", a)\n",
    "# to get a specific element:\n",
    "# notation is [r,c]\n",
    "print(a[1,2])  #exclusive way for numpy arrays only\n",
    "print(a[1][2]) #can also be done like this traditional lists and c/c++ array way\n",
    "print(a[0,-2])\n",
    "print(a[0][-2])"
   ]
  },
  {
   "cell_type": "markdown",
   "metadata": {},
   "source": [
    "###### to get a specific row or col:"
   ]
  },
  {
   "cell_type": "code",
   "execution_count": 42,
   "metadata": {},
   "outputs": [
    {
     "name": "stdout",
     "output_type": "stream",
     "text": [
      "[ 8  9 10 11 12 13 14]\n",
      "[ 7 14  7]\n",
      "[ 8  9 10 11 12 13 14]\n"
     ]
    }
   ],
   "source": [
    "print(a[1, :]) # first row, every column elements\n",
    "print(a[:, 6]) # every row elements, sixth column\n",
    "print(a[1]) #you can get a specific row this way but cannot get a specific col this way"
   ]
  },
  {
   "cell_type": "markdown",
   "metadata": {},
   "source": [
    "###### another way to access elements of your choice:"
   ]
  },
  {
   "cell_type": "code",
   "execution_count": 43,
   "metadata": {},
   "outputs": [
    {
     "name": "stdout",
     "output_type": "stream",
     "text": [
      "[2 3 4 5]\n",
      "[ 4 11  4]\n"
     ]
    }
   ],
   "source": [
    "# [starting index(INCLUDED) : ending index(EXCLUDED) : stepsize] and you can also use negative indexing\n",
    "# if nothing is metioned then by default starting index = 0, ending index = -1(but included), step size = 1\n",
    "print(a[0, 1:5:1]) #we are talking about 0th index row \n",
    "print(a[0:3:1, 3]) #we are talking about 3rd index col\n",
    " "
   ]
  },
  {
   "cell_type": "markdown",
   "metadata": {},
   "source": [
    "###### overiding elements:\n"
   ]
  },
  {
   "cell_type": "code",
   "execution_count": 44,
   "metadata": {},
   "outputs": [
    {
     "name": "stdout",
     "output_type": "stream",
     "text": [
      "[[ 1  2  3  4  5  6  7]\n",
      " [ 8  9 50 11 12 13 14]\n",
      " [ 1  2  3  4  5  6  7]]\n"
     ]
    }
   ],
   "source": [
    "a[1,2] = 50\n",
    "print(a)"
   ]
  },
  {
   "cell_type": "markdown",
   "metadata": {},
   "source": [
    "###### overiding rows and cols:"
   ]
  },
  {
   "cell_type": "code",
   "execution_count": 45,
   "metadata": {},
   "outputs": [
    {
     "name": "stdout",
     "output_type": "stream",
     "text": [
      "[[ 5  5  5  5  5  5  5]\n",
      " [ 8  9 50 11 12 13 14]\n",
      " [ 1  2  3  4  5  6  7]]\n",
      "[[10 20 30 40 50 60 70]\n",
      " [ 8  9 50 11 12 13 14]\n",
      " [ 1  2  3  4  5  6  7]]\n",
      "[[10 20 99 40 50 60 70]\n",
      " [ 8  9 88 11 12 13 14]\n",
      " [ 1  2 77  4  5  6  7]]\n"
     ]
    }
   ],
   "source": [
    "a[0, :] = 5 # numpy will broadcast it\n",
    "print(a)\n",
    "a[0, :] = [10,20,30,40,50,60,70]\n",
    "print(a)\n",
    "a[:, 2] = [99,88,77] #or just mention that single value you want all to have\n",
    "print(a)"
   ]
  },
  {
   "cell_type": "markdown",
   "metadata": {},
   "source": [
    "###### 3D numpy arrays: you can scale to even higher dimensions"
   ]
  },
  {
   "cell_type": "code",
   "execution_count": 46,
   "metadata": {},
   "outputs": [
    {
     "name": "stdout",
     "output_type": "stream",
     "text": [
      "[[[1 2]\n",
      "  [3 4]]\n",
      "\n",
      " [[5 6]\n",
      "  [7 8]]]\n",
      "6\n",
      "6\n",
      "[[3 4]\n",
      " [7 8]]\n"
     ]
    }
   ],
   "source": [
    "b = np.array([[[1,2],[3,4]],[[5,6],[7,8]]])\n",
    "print(b)\n",
    "#go from outside in \n",
    "print(b[1,0,1]) # like [channel,row/height,col/width]\n",
    "print(b[1][0][1])\n",
    "print(b[:, 1, :]) # takes all channels, only first index row, and takes all cols\n"
   ]
  },
  {
   "cell_type": "markdown",
   "metadata": {},
   "source": [
    "###### overiding rows and cols of 3D array:\n"
   ]
  },
  {
   "cell_type": "code",
   "execution_count": 51,
   "metadata": {},
   "outputs": [
    {
     "name": "stdout",
     "output_type": "stream",
     "text": [
      "[[[10 11]\n",
      "  [ 3  4]]\n",
      "\n",
      " [[12 13]\n",
      "  [ 7  8]]]\n"
     ]
    }
   ],
   "source": [
    "b[:, 0, :] = [[10,11],[12,13]] # The dimension should be same or broadcastable else it will throw an error.\n",
    "print(b)"
   ]
  },
  {
   "cell_type": "markdown",
   "metadata": {},
   "source": [
    "###### initializing different types of numpy arrays:"
   ]
  },
  {
   "cell_type": "code",
   "execution_count": 52,
   "metadata": {},
   "outputs": [
    {
     "name": "stdout",
     "output_type": "stream",
     "text": [
      "[[0 0 0]\n",
      " [0 0 0]]\n",
      "[[1 1]\n",
      " [1 1]\n",
      " [1 1]]\n",
      "[[101. 101. 101.]\n",
      " [101. 101. 101.]]\n",
      "[[97 97 97 97 97 97 97]\n",
      " [97 97 97 97 97 97 97]\n",
      " [97 97 97 97 97 97 97]]\n",
      "[[95 95 95 95 95 95 95]\n",
      " [95 95 95 95 95 95 95]\n",
      " [95 95 95 95 95 95 95]]\n",
      "[[1. 0.]\n",
      " [0. 1.]]\n"
     ]
    }
   ],
   "source": [
    "c = np.zeros((2,3), dtype = 'int16') #makes 2D array of 2*3 dimension containing zeros\n",
    "print(c)\n",
    "d = np.ones((3,2), dtype = 'int16')\n",
    "print(d)\n",
    "e = np.full((2,3), 101, dtype = 'float32')\n",
    "print(e)\n",
    "#to get shape from some other predefined array:\n",
    "f = np.full(a.shape, 97) #notice we are passing a tuple using a.shape \n",
    "print(f)\n",
    "# or you can use full_like\n",
    "g = np.full_like(a, 95)\n",
    "print(g)\n",
    "print(np.identity(2)) # creating an identity matrix of 2x2 dimension"
   ]
  },
  {
   "cell_type": "markdown",
   "metadata": {},
   "source": [
    "###### random decimal numbers in interval [0,1):"
   ]
  },
  {
   "cell_type": "code",
   "execution_count": 53,
   "metadata": {},
   "outputs": [
    {
     "name": "stdout",
     "output_type": "stream",
     "text": [
      "[[0.71607284 0.32787931 0.11653373]\n",
      " [0.28668915 0.26216848 0.79313504]\n",
      " [0.51096455 0.05007316 0.28828875]\n",
      " [0.09627335 0.77480001 0.69451196]]\n",
      "0.4131935610647198\n",
      "0.7730170120688783\n",
      "[[0.64525373 0.95737534 0.44615324 0.60530578 0.36640065 0.06062484\n",
      "  0.22549843]\n",
      " [0.21087313 0.35028755 0.89034863 0.50055079 0.6375039  0.2894597\n",
      "  0.56309906]\n",
      " [0.00644295 0.87286708 0.37506229 0.09951922 0.17997101 0.93300333\n",
      "  0.58175496]]\n"
     ]
    }
   ],
   "source": [
    "h = np.random.rand(4,3) #Random elements from uniform distribution over [0,1). Also, notice here we are not passing a tuple as the dimension\n",
    "print(h)\n",
    "print(np.random.rand()) #to get one random number\n",
    "# Replace rand with randn to get random elements from standard normal distribution\n",
    "\n",
    "# .random_sample also generates random numbers from uniform distribution over [0,1), only difference is that it takes in tuple as input\n",
    "i = np.random.random_sample() #to get one random number \n",
    "print(i)\n",
    "j = np.random.random_sample(a.shape) #this one takes a tuple as input\n",
    "print(j)"
   ]
  },
  {
   "cell_type": "markdown",
   "metadata": {},
   "source": [
    "###### random integers:"
   ]
  },
  {
   "cell_type": "code",
   "execution_count": 54,
   "metadata": {},
   "outputs": [
    {
     "name": "stdout",
     "output_type": "stream",
     "text": [
      "[[4 8 8]\n",
      " [4 3 8]]\n"
     ]
    }
   ],
   "source": [
    "print(np.random.randint(3,9, size = (2,3), dtype = 'int64')) # int in interval [3,9)"
   ]
  },
  {
   "cell_type": "markdown",
   "metadata": {},
   "source": [
    "###### Repeat an array:"
   ]
  },
  {
   "cell_type": "code",
   "execution_count": 55,
   "metadata": {},
   "outputs": [
    {
     "name": "stdout",
     "output_type": "stream",
     "text": [
      "[1 1 2 2 3 3]\n"
     ]
    }
   ],
   "source": [
    "k = np.array([1,2,3])\n",
    "print(np.repeat(k, 2, axis = 0)) #only one possible axis i.e. alongside column, so axis = 0 for cols in this case"
   ]
  },
  {
   "cell_type": "code",
   "execution_count": 56,
   "metadata": {},
   "outputs": [
    {
     "name": "stdout",
     "output_type": "stream",
     "text": [
      "[[1 2 3]\n",
      " [1 2 3]\n",
      " [4 5 6]\n",
      " [4 5 6]]\n",
      "[[1 1 2 2 3 3]\n",
      " [4 4 5 5 6 6]]\n"
     ]
    }
   ],
   "source": [
    "k = np.array([[1,2,3],[4,5,6]])\n",
    "#two possible axis this time, i.e. axis = 0 for rows and axis = 1 for cols\n",
    "print(np.repeat(k, 2, axis = 0)) \n",
    "print(np.repeat(k, 2, axis = 1))\n"
   ]
  },
  {
   "cell_type": "code",
   "execution_count": 57,
   "metadata": {},
   "outputs": [
    {
     "name": "stdout",
     "output_type": "stream",
     "text": [
      "[[[1 2 3]\n",
      "  [4 5 6]]\n",
      "\n",
      " [[1 2 3]\n",
      "  [4 5 6]]] \n",
      "\n",
      "[[[1 2 3]\n",
      "  [1 2 3]\n",
      "  [4 5 6]\n",
      "  [4 5 6]]] \n",
      "\n",
      "[[[1 1 2 2 3 3]\n",
      "  [4 4 5 5 6 6]]] \n",
      "\n"
     ]
    }
   ],
   "source": [
    "k = np.array([[[1,2,3],[4,5,6]]])\n",
    "#three possible axis i.e. axis = 0 for channels and so on\n",
    "print(np.repeat(k, 2, axis = 0),\"\\n\")\n",
    "print(np.repeat(k, 2, axis = 1),\"\\n\")\n",
    "print(np.repeat(k, 2, axis = 2),\"\\n\")"
   ]
  },
  {
   "cell_type": "markdown",
   "metadata": {},
   "source": [
    "###### BE CAREFUL WHILE COPYING NUMPY ARRAYS"
   ]
  },
  {
   "cell_type": "code",
   "execution_count": 60,
   "metadata": {},
   "outputs": [
    {
     "name": "stdout",
     "output_type": "stream",
     "text": [
      "[1 5 3]\n",
      "[1 5 3]\n"
     ]
    }
   ],
   "source": [
    "m = np.array([1,2,3])\n",
    "n = m\n",
    "n[1] = 5\n",
    "print(n)\n",
    "print(m)\n",
    "# BOTH CHANGED! EVEN THOUGH WE ONLY CHANGED N. THIS IS BECAUSE WHEN WE DO THIS, BOTH OF THE ARRYAS POINTS TO THE SAME VALUE\n",
    "# USE COPY METHOD TO PREVENT THIS FROM HAPPENING \n"
   ]
  },
  {
   "cell_type": "code",
   "execution_count": 61,
   "metadata": {},
   "outputs": [
    {
     "name": "stdout",
     "output_type": "stream",
     "text": [
      "[1 7 3]\n",
      "[1 2 3]\n"
     ]
    }
   ],
   "source": [
    "m = np.array([1,2,3])\n",
    "n = m.copy()\n",
    "n[1] = 7\n",
    "print(n)\n",
    "print(m)"
   ]
  },
  {
   "cell_type": "markdown",
   "metadata": {},
   "source": [
    "###### Mathematics in numpy:"
   ]
  },
  {
   "cell_type": "code",
   "execution_count": 63,
   "metadata": {},
   "outputs": [
    {
     "name": "stdout",
     "output_type": "stream",
     "text": [
      "[3 4 5 6]\n",
      "[-1  0  1  2]\n",
      "[2 4 6 8]\n",
      "[0.5 1.  1.5 2. ]\n",
      "[ 1  4  9 16]\n",
      "[[2 4]\n",
      " [6 8]]\n",
      "[5 5 5 5]\n",
      "[ 0.84147098  0.90929743  0.14112001 -0.7568025 ]\n"
     ]
    }
   ],
   "source": [
    "#element wise scalar arithmetic\n",
    "r = np.array([1,2,3,4])\n",
    "print(r+2)\n",
    "print(r-2)\n",
    "print(r*2)\n",
    "print(r/2)\n",
    "print(r**2)\n",
    "s = np.array([[1,2],[3,4]])\n",
    "print(s*2)\n",
    "#element wise tensor arithmetic\n",
    "s = np.array([4,3,2,1])\n",
    "print(r+s)\n",
    "print(np.sin(r)) #similarly for np.cos(r)\n"
   ]
  },
  {
   "cell_type": "markdown",
   "metadata": {},
   "source": [
    "###### linear algebra:"
   ]
  },
  {
   "cell_type": "code",
   "execution_count": 70,
   "metadata": {},
   "outputs": [
    {
     "name": "stdout",
     "output_type": "stream",
     "text": [
      "[[1. 1. 1.]\n",
      " [1. 1. 1.]] \n",
      "\n",
      "[[2 2]\n",
      " [2 2]\n",
      " [2 2]] \n",
      "\n",
      "[[6. 6.]\n",
      " [6. 6.]] \n",
      "\n",
      "0.0 \n",
      "\n",
      "[[2 2 2]\n",
      " [2 2 2]]\n"
     ]
    }
   ],
   "source": [
    "t = np.ones((2,3))\n",
    "print(t,\"\\n\")\n",
    "u = np.full((3,2),2)\n",
    "print(u,\"\\n\")\n",
    "v = np.matmul(t,u)\n",
    "print(v,\"\\n\")\n",
    "print(np.linalg.det(v), \"\\n\") # determinant\n",
    "print(u.T) # matrix transpose"
   ]
  },
  {
   "cell_type": "markdown",
   "metadata": {},
   "source": [
    "###### statistics:"
   ]
  },
  {
   "cell_type": "code",
   "execution_count": 72,
   "metadata": {},
   "outputs": [
    {
     "name": "stdout",
     "output_type": "stream",
     "text": [
      "1 \n",
      "\n",
      "6 \n",
      "\n",
      "[1 2 3] \n",
      "\n",
      "[1 3] \n",
      "\n",
      "21 \n",
      "\n",
      "[5 7 9] \n",
      "\n",
      "[ 9 12]\n"
     ]
    }
   ],
   "source": [
    "stats = np.array([[1,2,6],[4,5,3]])\n",
    "print(np.min(stats), \"\\n\")\n",
    "print(np.max(stats), \"\\n\")\n",
    "print(np.min(stats, axis = 0), \"\\n\") # for a particular col, compares the rows\n",
    "print(np.min(stats, axis = 1), \"\\n\") # for a particular row, compares the cols\n",
    "print(np.sum(stats),\"\\n\")\n",
    "print(np.sum(stats, axis = 0),\"\\n\") # for a particular col, adds the rows\n",
    "print(np.sum(stats, axis = 1)) # for a particular row, adds the cols"
   ]
  },
  {
   "cell_type": "markdown",
   "metadata": {},
   "source": [
    "###### reorganising arrays:"
   ]
  },
  {
   "cell_type": "code",
   "execution_count": 75,
   "metadata": {},
   "outputs": [
    {
     "name": "stdout",
     "output_type": "stream",
     "text": [
      "[[1 2 3 4]\n",
      " [5 6 7 8]]\n",
      "[[1]\n",
      " [2]\n",
      " [3]\n",
      " [4]\n",
      " [5]\n",
      " [6]\n",
      " [7]\n",
      " [8]]\n",
      "[[1 2]\n",
      " [3 4]\n",
      " [5 6]\n",
      " [7 8]]\n",
      "[[[1 2]\n",
      "  [3 4]]\n",
      "\n",
      " [[5 6]\n",
      "  [7 8]]]\n"
     ]
    }
   ],
   "source": [
    "before = np.array([[1,2,3,4],[5,6,7,8]]) # 2x4 = 8\n",
    "print(before)\n",
    "\n",
    "# The total number of elements in input to reshape function must be equal to the number of elements in the before array.\n",
    "after = before.reshape((8,1)) # 8x1 = 8\n",
    "print(after)\n",
    "after = before.reshape((4,2)) # 4x2 = 8\n",
    "print(after)\n",
    "after = before.reshape((2,2,2)) # 2x2x2 = 8\n",
    "print(after)"
   ]
  },
  {
   "cell_type": "markdown",
   "metadata": {},
   "source": [
    "###### vertically and horizontally stacking vectors:"
   ]
  },
  {
   "cell_type": "code",
   "execution_count": 76,
   "metadata": {},
   "outputs": [
    {
     "name": "stdout",
     "output_type": "stream",
     "text": [
      "[[5 6 7 8]\n",
      " [1 2 3 4]\n",
      " [4 3 2 1]\n",
      " [5 6 7 8]]\n"
     ]
    }
   ],
   "source": [
    "# basically similar to concatination or appending\n",
    "# vertical stacking\n",
    "v1 = np.array([[1,2,3,4],[4,3,2,1]])\n",
    "v2 = np.array([5,6,7,8])\n",
    "print(np.vstack((v2,v1,v2))) #the number of cols must be same but number of rows can be different! so we can stack a vector with a matrix!\n"
   ]
  },
  {
   "cell_type": "code",
   "execution_count": 78,
   "metadata": {},
   "outputs": [
    {
     "name": "stdout",
     "output_type": "stream",
     "text": [
      "[[0. 0.]\n",
      " [0. 0.]\n",
      " [0. 0.]] \n",
      "\n",
      "[[1. 1. 1. 1. 1.]\n",
      " [1. 1. 1. 1. 1.]\n",
      " [1. 1. 1. 1. 1.]] \n",
      "\n",
      "[[0. 0. 1. 1. 1. 1. 1.]\n",
      " [0. 0. 1. 1. 1. 1. 1.]\n",
      " [0. 0. 1. 1. 1. 1. 1.]] \n",
      "\n"
     ]
    }
   ],
   "source": [
    "# horizontal stacking\n",
    "# number of rows should be same but number of columns can be different\n",
    "\n",
    "h1 = np.zeros((3,2))\n",
    "print(h1, '\\n')\n",
    "h2 = np.ones((3,5))\n",
    "print(h2, '\\n')\n",
    "print(np.hstack((h1,h2)),'\\n')  #[h1,h2] will also work, and so is [v2,v1,v2]\n"
   ]
  },
  {
   "cell_type": "markdown",
   "metadata": {},
   "source": [
    "###### load data from a file:"
   ]
  },
  {
   "cell_type": "code",
   "execution_count": 79,
   "metadata": {},
   "outputs": [
    {
     "name": "stdout",
     "output_type": "stream",
     "text": [
      "[[ 1.  2.  3.  4.  5.  6.  7.  8.  9. 10.]\n",
      " [ 3.  6.  2.  6.  4.  2.  6.  3.  7.  1.]]\n",
      "float64\n",
      "[[ 1  2  3  4  5  6  7  8  9 10]\n",
      " [ 3  6  2  6  4  2  6  3  7  1]]\n",
      "int32 \n",
      "\n"
     ]
    }
   ],
   "source": [
    "output = np.genfromtxt(r'E:\\academics\\Semester_4\\TA\\21st Feb\\numpy\\data.txt', delimiter = ',')\n",
    "print(output) #default it float64\n",
    "print(output.dtype)\n",
    "output = output.astype('int32')\n",
    "print(output)\n",
    "print(output.dtype,'\\n')\n"
   ]
  },
  {
   "cell_type": "markdown",
   "metadata": {},
   "source": [
    "###### advanced indexing:"
   ]
  },
  {
   "cell_type": "code",
   "execution_count": 80,
   "metadata": {},
   "outputs": [
    {
     "name": "stdout",
     "output_type": "stream",
     "text": [
      "[1 5 8] \n",
      "\n"
     ]
    }
   ],
   "source": [
    "# you can index with a list in numpy\n",
    "x = np.array([1,2,3,4,5,6,7,8,9])\n",
    "y = np.array([0,4,7])\n",
    "print(x[y],'\\n')"
   ]
  },
  {
   "cell_type": "code",
   "execution_count": 81,
   "metadata": {},
   "outputs": [
    {
     "name": "stdout",
     "output_type": "stream",
     "text": [
      "[[1 2 3]\n",
      " [4 5 6]\n",
      " [7 8 9]] \n",
      "\n",
      "[[4 5]\n",
      " [7 8]] \n",
      "\n",
      "[2 6] \n",
      "\n",
      "[[2 3]\n",
      " [8 9]] \n",
      "\n"
     ]
    }
   ],
   "source": [
    "# Indexing in 2D arrays\n",
    "adolph = np.array([[1,2,3],[4,5,6],[7,8,9]])\n",
    "print(adolph,'\\n')\n",
    "print(adolph[1:3, 0:2],'\\n') #by default step size = 1\n",
    "# indexing using list\n",
    "hitler = adolph[[0,1],[1,2]] # first list for row index, second list for col index\n",
    "print(hitler,'\\n')\n",
    "print(adolph[[0,2], 1:],'\\n') # [0,2] operates on rows, 1: operates on columns\n"
   ]
  },
  {
   "cell_type": "markdown",
   "metadata": {},
   "source": [
    "###### boolean masking"
   ]
  },
  {
   "cell_type": "code",
   "execution_count": 82,
   "metadata": {},
   "outputs": [
    {
     "name": "stdout",
     "output_type": "stream",
     "text": [
      "[[False False False False False  True  True  True  True  True]\n",
      " [False  True False  True False False  True False  True False]] \n",
      "\n"
     ]
    }
   ],
   "source": [
    "print(output>5,'\\n') # outputs a list of bool values"
   ]
  },
  {
   "cell_type": "code",
   "execution_count": 83,
   "metadata": {},
   "outputs": [
    {
     "name": "stdout",
     "output_type": "stream",
     "text": [
      "[ 6  7  8  9 10  6  6  6  7] \n",
      "\n"
     ]
    }
   ],
   "source": [
    "# this boolean list then can be used to filter values from original array\n",
    "refined = output[output>5]\n",
    "print(refined,'\\n')"
   ]
  },
  {
   "cell_type": "code",
   "execution_count": 85,
   "metadata": {},
   "outputs": [
    {
     "name": "stdout",
     "output_type": "stream",
     "text": [
      "[[ 1  2  3  4  5  6  7  8  9 10]\n",
      " [ 3  6  2  6  4  2  6  3  7  1]] \n",
      "\n",
      "[False  True False  True False  True  True  True  True  True] \n",
      "\n",
      "[False False False False False False  True False  True False] \n",
      "\n"
     ]
    }
   ],
   "source": [
    "print(output,'\\n')\n",
    "z = np.any(output > 5, axis = 0) # returns true if ANY element is > 5 along one particular column\n",
    "print(z,'\\n')\n",
    "z = np.all(output > 5, axis = 0) # returns true only if ALL elements are > 5 along one particular column\n",
    "print(z,'\\n')"
   ]
  },
  {
   "cell_type": "code",
   "execution_count": 87,
   "metadata": {},
   "outputs": [
    {
     "name": "stdout",
     "output_type": "stream",
     "text": [
      "[[False False False  True  True  True  True False False False]\n",
      " [False  True False  True  True False  True False  True False]] \n",
      "\n",
      "[[ True  True  True  True  True  True  True  True  True  True]\n",
      " [ True  True  True  True  True  True  True  True  True  True]] \n",
      "\n",
      "[[ True  True  True False False False False  True  True  True]\n",
      " [ True False  True False False  True False  True False  True]] \n",
      "\n"
     ]
    }
   ],
   "source": [
    "print(((output > 3) & (output < 8)),'\\n')\n",
    "print(((output > 3) | (output < 8)),'\\n') \n",
    "print((~((output > 3) & (output < 8))),'\\n')\n"
   ]
  },
  {
   "cell_type": "markdown",
   "metadata": {},
   "source": [
    "###### saving and loading a numpy array"
   ]
  },
  {
   "cell_type": "code",
   "execution_count": 88,
   "metadata": {},
   "outputs": [],
   "source": [
    "nzt = np.array([[1,2,3],[6,7,8]])\n",
    "np.save(r\"E:\\academics\\Semester_4\\TA\\21st Feb\\numpy\\nzt.npy\", nzt)"
   ]
  },
  {
   "cell_type": "code",
   "execution_count": 89,
   "metadata": {},
   "outputs": [
    {
     "name": "stdout",
     "output_type": "stream",
     "text": [
      "[[1 2 3]\n",
      " [6 7 8]]\n"
     ]
    }
   ],
   "source": [
    "nzt_load = np.load(r\"E:\\academics\\Semester_4\\TA\\21st Feb\\numpy\\nzt.npy\")\n",
    "print(nzt_load)"
   ]
  },
  {
   "cell_type": "markdown",
   "metadata": {},
   "source": [
    "### Assignments:"
   ]
  },
  {
   "cell_type": "markdown",
   "metadata": {},
   "source": [
    "1. Create a 1x7 Numpy array whose elements consist of a geometric progression with a = 1 & r = 3."
   ]
  },
  {
   "cell_type": "markdown",
   "metadata": {},
   "source": [
    "2. Transform each of the element of the below matrix according to the below equation\n",
    "\n",
    "    if x is an element in input matrix, output matrix should have \n",
    "$1/(x^2 + 1)$ in its place\n",
    "\n",
    "mat = [[1,2,3],[4,5,6]]"
   ]
  },
  {
   "cell_type": "markdown",
   "metadata": {},
   "source": [
    "3. Make a 5x5 NumPy array of all zeros and use indexing and broadcasting to modify it such that all the elements not on the border are 1"
   ]
  },
  {
   "cell_type": "markdown",
   "metadata": {},
   "source": [
    "4. using numpy, instantiate 13x13 zeros matrix then modify it to make the below matrix: \\\\\n",
    "[[0,0,0,0,0,0,0,0,0,0,0,0,0]\n",
    " [0,1,1,1,1,1,1,1,1,1,1,1,0]\n",
    " [0,1,2,2,2,2,2,2,2,2,2,1,0]\n",
    " [0,1,2,3,3,3,3,3,3,3,2,1,0]\n",
    " [0,1,2,3,4,4,4,4,4,3,2,1,0]\n",
    " [0,1,2,3,4,5,5,5,4,3,2,1,0]\n",
    " [0,1,2,3,4,5,6,5,4,3,2,1,0]\n",
    " [0,1,2,3,4,5,5,5,4,3,2,1,0]\n",
    " [0,1,2,3,4,4,4,4,4,3,2,1,0]\n",
    " [0,1,2,3,3,3,3,3,3,3,2,1,0]\n",
    " [0,1,2,2,2,2,2,2,2,2,2,1,0]\n",
    " [0,1,1,1,1,1,1,1,1,1,1,1,0]\n",
    " [0,0,0,0,0,0,0,0,0,0,0,0,0]\n",
    "]"
   ]
  },
  {
   "cell_type": "markdown",
   "metadata": {},
   "source": [
    "5. make a 3 dimensional array of shape 3,3,3 having values 1-27 in sequence\n",
    "1) Slice this matrix to contain only second and third rows, first and second columns. \\\\\n",
    "2) Output a two dimensional matrix as shown below \\\\\n",
    "[[0,3,6],[9,12,15],[18,21,14]]"
   ]
  },
  {
   "cell_type": "markdown",
   "metadata": {},
   "source": [
    "6. Make a 2 dimensional array of size 3,3 having values 1-9 in sequence and modify it such that even values remains unchanged but odd values are changed to zero "
   ]
  },
  {
   "cell_type": "markdown",
   "metadata": {},
   "source": [
    "7. Make a 2 dimensional array of size 8,4 having values 1-32 in sequence. use list indexing to output all the even elements in the matrix"
   ]
  },
  {
   "cell_type": "markdown",
   "metadata": {},
   "source": [
    "8. Make matrix1 as a 2 dimensional array of size 3,3 having value 0-8 in sequence. make matrix2 as a 2 dimensional array of size 3,3 having values 1-9 in sequence. use masking and conditional logic to replace all the odd elements of matrix A with even elements of matrix B"
   ]
  },
  {
   "cell_type": "markdown",
   "metadata": {},
   "source": [
    "9. solve for x and y using numpy \\\\\n",
    "2x + 5y = 20 \\\\\n",
    "3x + 6y = 12"
   ]
  }
 ],
 "metadata": {
  "kernelspec": {
   "display_name": "Python 3.9.8 64-bit",
   "language": "python",
   "name": "python3"
  },
  "language_info": {
   "codemirror_mode": {
    "name": "ipython",
    "version": 3
   },
   "file_extension": ".py",
   "mimetype": "text/x-python",
   "name": "python",
   "nbconvert_exporter": "python",
   "pygments_lexer": "ipython3",
   "version": "3.9.8"
  },
  "orig_nbformat": 4,
  "vscode": {
   "interpreter": {
    "hash": "28dcf420e82455beda9870b50cb18544e508aaa9187e15c58d04fb4a4b79abf7"
   }
  }
 },
 "nbformat": 4,
 "nbformat_minor": 2
}
