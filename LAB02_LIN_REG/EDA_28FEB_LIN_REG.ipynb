{
  "nbformat": 4,
  "nbformat_minor": 0,
  "metadata": {
    "colab": {
      "provenance": []
    },
    "kernelspec": {
      "name": "python3",
      "display_name": "Python 3"
    },
    "language_info": {
      "name": "python"
    }
  },
  "cells": [
    {
      "cell_type": "markdown",
      "source": [
        "**ID - 202218061**\n",
        "\n",
        "**NAME -  JATAN SAHU**\n",
        "\n",
        "**LINEAR REGRESSION**"
      ],
      "metadata": {
        "id": "LdXXrQWBB0rB"
      }
    },
    {
      "cell_type": "code",
      "source": [
        "import numpy as np\n",
        "import pandas as pd\n",
        "import matplotlib.pyplot as plt\n",
        "from sklearn.model_selection import train_test_split\n",
        "from sklearn import preprocessing\n",
        "from sklearn.metrics import r2_score\n",
        "from sklearn.linear_model import LinearRegression\n",
        "from sklearn.preprocessing import StandardScaler\n",
        "from sklearn.model_selection import train_test_split"
      ],
      "metadata": {
        "id": "S9T4KpRXCNOL"
      },
      "execution_count": 9,
      "outputs": []
    },
    {
      "cell_type": "markdown",
      "source": [
        "**1)\tImplement Linear regression (2D linear regression) function. The function must take a train data and a test data as input (do it using sklearn). Normalize the feature in train and test data. Compute the weights using closed form solution, gradient descent algorithm (play with number of iterations and learning rate to obtain best prediction on test data) and statistical linear regression. Plot the regression line of all three methods on the same figure using matplotlib.** "
      ],
      "metadata": {
        "id": "PyrZoDCrCJDb"
      }
    },
    {
      "cell_type": "code",
      "execution_count": 14,
      "metadata": {
        "id": "OFyprb_QBcCO"
      },
      "outputs": [],
      "source": [
        "def linear_regression(X , Y , method  , learning_rate=0.001 , iteration =1000 ):\n",
        "  #SPLITIING DATA \n",
        "  X_train, X_test, y_train, y_test = train_test_split(X,Y, test_size=0.33, random_state=42)\n",
        "\n",
        "  #NORMALIZING DATA \n",
        "  scaler = StandardScaler()\n",
        "  X_train = scaler.fit_transform(np.array(X_train).reshape(-1, 1))\n",
        "  X_test = scaler.transform(np.array(X_test).reshape(-1, 1))\n",
        "\n",
        "  X_train_norm = np.c_[np.ones(X_train.shape[0]), X_train]\n",
        "  X_test_norm = np.c_[np.ones(X_test.shape[0]), X_test]\n",
        "\n",
        "  if method ==\"closed_form\":\n",
        "        XT_X = np.dot(X_train_norm.T , X_train_norm)\n",
        "        XT_y = np.dot(X_train_norm.T, y_train)\n",
        "        weights = np.linalg.solve(XT_X, XT_y)\n",
        "        y_pred = np.dot(X_test_norm, weights)\n",
        "\n",
        "  elif method == 'gradient_descent':\n",
        "    rows, cols = X_train_norm.shape\n",
        "    weights = np.random.randn(cols, 1)\n",
        "    for i in range(iteration):\n",
        "        y_pred = np.dot(X_train_norm, weights)\n",
        "        error = y_pred - np.array(y_train).reshape(-1, 1)\n",
        "        gradient = (2 / rows) * np.dot(X_train_norm.T, error)\n",
        "        weights = weights - learning_rate * gradient\n",
        "    y_pred = np.dot(X_test_norm, weights)\n",
        "\n",
        "  elif method == 'statistical':\n",
        "        X_train_slr = X_train\n",
        "        model_slr = LinearRegression()\n",
        "        model_slr.fit(X_train_slr, y_train)\n",
        "        y_pred = model_slr.predict(X_test)\n",
        "  else:\n",
        "    raise ValueError('Invalid method specified.')\n",
        "    \n",
        "    #R2 score:\n",
        "    r2 = r2_score(y_test, y_pred)\n",
        "\n",
        "    #Plot\n",
        "    plt.scatter(X_test[:, 0], y_test, color='blue')\n",
        "    plt.plot(X_test[:, 0], y_pred, color='red')\n",
        "    plt.xlabel('Feature')\n",
        "    plt.ylabel('Target')\n",
        "    plt.show()\n",
        "\n",
        "    return y_pred, r2\n",
        "\n"
      ]
    },
    {
      "cell_type": "code",
      "source": [
        "def linear_regression(X,Y, method, learning_rate=0.01, n_iterations=1000):\n",
        "\n",
        "    X_train, X_test, y_train, y_test = train_test_split(X, Y, test_size=0.2, random_state=42)\n",
        "\n",
        "    scaler = StandardScaler()\n",
        "    X_train = scaler.fit_transform(np.array(X_train).reshape(-1, 1))\n",
        "    X_test = scaler.transform(np.array(X_test).reshape(-1, 1))\n",
        "    \n",
        "    X_train_normalized = np.c_[np.ones(X_train.shape[0]), X_train]\n",
        "    X_test_normalized = np.c_[np.ones(X_test.shape[0]), X_test]\n",
        "    \n",
        "    if method == 'closed_form':\n",
        "        XT_X = np.dot(X_train_normalized.T, X_train_normalized)\n",
        "        XT_y = np.dot(X_train_normalized.T, y_train)\n",
        "        weights = np.linalg.solve(XT_X, XT_y)\n",
        "        y_pred = np.dot(X_test_normalized, weights)    \n",
        "\n",
        "    elif method == 'gradient_descent':\n",
        "        rows, cols = X_train_normalized.shape\n",
        "        weights = np.random.randn(cols, 1)\n",
        "        for i in range(n_iterations):\n",
        "            y_pred = np.dot(X_train_normalized, weights)\n",
        "            error = y_pred - np.array(y_train).reshape(-1, 1)\n",
        "            gradient = (2 / rows) * np.dot(X_train_normalized.T, error)\n",
        "            weights = weights - learning_rate * gradient\n",
        "        y_pred = np.dot(X_test_normalized, weights)\n",
        "\n",
        "    elif method == 'statistical':\n",
        "        X_train_slr = X_train\n",
        "        model_slr = LinearRegression()\n",
        "        model_slr.fit(X_train_slr, y_train)\n",
        "        y_pred = model_slr.predict(X_test)\n",
        "    else:\n",
        "        raise ValueError('Invalid method specified.')\n",
        "    \n",
        "    #R2 score:\n",
        "    r2 = r2_score(y_test, y_pred)\n",
        "\n",
        "    #Plot\n",
        "    plt.scatter(X_test[:, 0], y_test, color='blue', label=\"actual\" )\n",
        "    plt.plot(X_test[:, 0], y_pred, color='green',label=\"predicted\")\n",
        "    plt.xlabel('Feature')\n",
        "    plt.ylabel('Target')\n",
        "    plt.show()\n",
        "\n",
        "    return y_pred, r2\n"
      ],
      "metadata": {
        "id": "S_51t1RsYYfU"
      },
      "execution_count": 28,
      "outputs": []
    },
    {
      "cell_type": "markdown",
      "source": [
        "2)\tUse the above function and predict sepalLength given sepalWidth in iris dataset (take train:test ratio of 0.8). Compute R2 score of each method on predictions (use sklearn)\n"
      ],
      "metadata": {
        "id": "qFqwUpXNV6nU"
      }
    },
    {
      "cell_type": "code",
      "source": [
        "iris = pd.read_csv('/content/Iris.csv')\n",
        "\n",
        "X = iris['SepalWidthCm']\n",
        "Y = iris['SepalLengthCm']\n",
        "\n",
        "y_pred, r2 = linear_regression(X,Y, method='closed_form')\n",
        "print(f'R2 score: {r2:.3f}')"
      ],
      "metadata": {
        "colab": {
          "base_uri": "https://localhost:8080/",
          "height": 466
        },
        "id": "O0D08VlaWBZK",
        "outputId": "d4e4f9c2-cc03-4e12-aca5-bf58a2d9349d"
      },
      "execution_count": 29,
      "outputs": [
        {
          "output_type": "display_data",
          "data": {
            "text/plain": [
              "<Figure size 640x480 with 1 Axes>"
            ],
            "image/png": "[encoded data removed]"
          },
          "metadata": {}
        },
        {
          "output_type": "stream",
          "name": "stdout",
          "text": [
            "R2 score: -0.021\n"
          ]
        }
      ]
    },
    {
      "cell_type": "code",
      "source": [
        "y_pred, r2 = linear_regression(X,Y, method='gradient_descent')\n",
        "print(f'R2 score: {r2:.3f}')"
      ],
      "metadata": {
        "colab": {
          "base_uri": "https://localhost:8080/",
          "height": 466
        },
        "id": "UALdo2ggWF-q",
        "outputId": "197e9431-1cde-4822-f8eb-9c5ade74b286"
      },
      "execution_count": 30,
      "outputs": [
        {
          "output_type": "display_data",
          "data": {
            "text/plain": [
              "<Figure size 640x480 with 1 Axes>"
            ],
            "image/png": "[encoded data removed]"
          },
          "metadata": {}
        },
        {
          "output_type": "stream",
          "name": "stdout",
          "text": [
            "R2 score: -0.021\n"
          ]
        }
      ]
    },
    {
      "cell_type": "code",
      "source": [
        "y_pred, r2 = linear_regression(X,Y, method='statistical')\n",
        "print(f'R2 score: {r2:.3f}')"
      ],
      "metadata": {
        "colab": {
          "base_uri": "https://localhost:8080/",
          "height": 466
        },
        "id": "ZWVITb5nWYj-",
        "outputId": "21d09d70-120d-4b37-d565-67e48ba4b6e0"
      },
      "execution_count": 31,
      "outputs": [
        {
          "output_type": "display_data",
          "data": {
            "text/plain": [
              "<Figure size 640x480 with 1 Axes>"
            ],
            "image/png": "[encoded data removed]"
          },
          "metadata": {}
        },
        {
          "output_type": "stream",
          "name": "stdout",
          "text": [
            "R2 score: -0.021\n"
          ]
        }
      ]
    },
    {
      "cell_type": "markdown",
      "source": [
        "3)\tImplement Multiple Linear regression function. The function must take a train data and a test data as input (do it using sklearn). Normalize the features in train and test data. Compute the weights using closed form solution, gradient descent algorithm (play with number of iterations and learning rate to obtain best prediction on test data)\n"
      ],
      "metadata": {
        "id": "T7K63GjUWicl"
      }
    },
    {
      "cell_type": "code",
      "source": [
        "import numpy as np\n",
        "from sklearn.preprocessing import StandardScaler\n",
        "\n",
        "def multiple_linear_regression(X,Y, method, n_iterations=1000, learning_rate=0.01):\n",
        "\n",
        "    X_train, X_test, y_train, y_test = train_test_split(X, Y, test_size=0.2, random_state=42)\n",
        "\n",
        "    #Normalize the features\n",
        "    scaler = StandardScaler()\n",
        "    X_train_scaled = scaler.fit_transform(np.array(X_train))\n",
        "    X_test_scaled = scaler.transform(np.array(X_test))\n",
        "    \n",
        "    X_train_scaled = np.c_[np.ones(X_train.shape[0]), X_train_scaled]\n",
        "    X_test_scaled = np.c_[np.ones(X_test.shape[0]), X_test_scaled]\n",
        "    \n",
        "    if method == 'closed_form':\n",
        "        XT_X = np.dot(X_train_scaled.T, X_train_scaled)\n",
        "        XT_y = np.dot(X_train_scaled.T, y_train)\n",
        "        weights = np.linalg.solve(XT_X, XT_y)\n",
        "        y_pred = np.dot(X_test_scaled, weights)    \n",
        "\n",
        "    elif method == 'gradient_descent':\n",
        "        rows, cols = X_train_scaled.shape\n",
        "        weights = np.random.randn(cols, 1)\n",
        "        for i in range(n_iterations):\n",
        "            y_pred = np.dot(X_train_scaled, weights)\n",
        "            error = y_pred - np.array(y_train).reshape(-1, 1)\n",
        "            gradient = (2 / rows) * np.dot(X_train_scaled.T, error)\n",
        "            weights = weights - learning_rate * gradient\n",
        "        y_pred = np.dot(X_test_scaled, weights)\n",
        "\n",
        "    else:\n",
        "        raise ValueError('Invalid method specified.')\n",
        "    \n",
        "    #R2 score:\n",
        "    r2 = r2_score(y_test, y_pred)   \n",
        "    \n",
        "    return y_pred, r2"
      ],
      "metadata": {
        "id": "DBprHRMKWur9"
      },
      "execution_count": 32,
      "outputs": []
    },
    {
      "cell_type": "markdown",
      "source": [
        "4)\tUse the above function and predict sepalLength given sepalWidth, petalLength and petalWidth in iris dataset (take train:test ratio of 0.8). Compute R2 score of each method on predictions (use sklearn)"
      ],
      "metadata": {
        "id": "yPfyeW_BWyvU"
      }
    },
    {
      "cell_type": "code",
      "source": [
        "X = iris[['SepalWidthCm', 'PetalLengthCm', 'PetalWidthCm']]\n",
        "Y = iris['SepalLengthCm']\n",
        "\n",
        "y_pred, r2 = multiple_linear_regression(X,Y, method='closed_form')\n",
        "print(\"R2 score (closed form):\", r2)\n",
        "\n",
        "y_pred, r2 = multiple_linear_regression(X,Y, method='gradient_descent')\n",
        "print(\"R2 score (gradient descent):\", r2)\n"
      ],
      "metadata": {
        "colab": {
          "base_uri": "https://localhost:8080/"
        },
        "id": "giZOGvodW02b",
        "outputId": "fe697c1b-a30a-45ca-f7f0-327cf733de5e"
      },
      "execution_count": 33,
      "outputs": [
        {
          "output_type": "stream",
          "name": "stdout",
          "text": [
            "R2 score (closed form): 0.8519067571325745\n",
            "R2 score (gradient descent): 0.8363284094651612\n"
          ]
        }
      ]
    }
  ]
}